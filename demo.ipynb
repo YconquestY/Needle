{
 "cells": [
  {
   "cell_type": "code",
   "execution_count": 1,
   "id": "5f08fe9b-0457-4458-a397-31088709c58e",
   "metadata": {},
   "outputs": [],
   "source": [
    "import sys\n",
    "sys.path.append('./python')\n",
    "sys.path.append('./apps'  )"
   ]
  },
  {
   "cell_type": "code",
   "execution_count": 2,
   "id": "bfd102d0-97a7-4b8d-82f7-5dce0a57a91d",
   "metadata": {},
   "outputs": [],
   "source": [
    "import needle as ndl\n",
    "from needle import nn"
   ]
  },
  {
   "cell_type": "code",
   "execution_count": 3,
   "id": "c0df76a0-a5d5-4f7d-a238-6f4ef3f96511",
   "metadata": {},
   "outputs": [],
   "source": [
    "from models import ResNet9\n",
    "from simple_training import train_cifar10, evaluate_cifar10"
   ]
  },
  {
   "cell_type": "code",
   "execution_count": 4,
   "id": "52e42e26-6e5a-455c-aaf5-45ae5adc2cdc",
   "metadata": {},
   "outputs": [],
   "source": [
    "device = ndl.cuda()\n",
    "dtype='float32'"
   ]
  },
  {
   "cell_type": "code",
   "execution_count": 6,
   "id": "17403d68-96de-4364-b593-8f923ad0a45a",
   "metadata": {},
   "outputs": [
    {
     "name": "stderr",
     "output_type": "stream",
     "text": [
      "391it [02:22,  2.75it/s]\n"
     ]
    },
    {
     "name": "stdout",
     "output_type": "stream",
     "text": [
      "epoch: 0\tloss: [1.7043092]\taccuracy: 0.38692\n"
     ]
    },
    {
     "name": "stderr",
     "output_type": "stream",
     "text": [
      "391it [02:22,  2.75it/s]\n"
     ]
    },
    {
     "name": "stdout",
     "output_type": "stream",
     "text": [
      "epoch: 1\tloss: [1.4037731]\taccuracy: 0.49426\n"
     ]
    },
    {
     "name": "stderr",
     "output_type": "stream",
     "text": [
      "391it [02:22,  2.74it/s]\n"
     ]
    },
    {
     "name": "stdout",
     "output_type": "stream",
     "text": [
      "epoch: 2\tloss: [1.2766427]\taccuracy: 0.54306\n"
     ]
    },
    {
     "name": "stderr",
     "output_type": "stream",
     "text": [
      "391it [02:21,  2.76it/s]\n"
     ]
    },
    {
     "name": "stdout",
     "output_type": "stream",
     "text": [
      "epoch: 3\tloss: [1.1837913]\taccuracy: 0.578\n"
     ]
    },
    {
     "name": "stderr",
     "output_type": "stream",
     "text": [
      "391it [02:21,  2.76it/s]"
     ]
    },
    {
     "name": "stdout",
     "output_type": "stream",
     "text": [
      "epoch: 4\tloss: [1.1120452]\taccuracy: 0.60262\n"
     ]
    },
    {
     "name": "stderr",
     "output_type": "stream",
     "text": [
      "\n"
     ]
    }
   ],
   "source": [
    "# prepare data\n",
    "dataset = ndl.data.CIFAR10Dataset(base_folder=\"data/cifar-10-batches-py\",\n",
    "                                  train=True)\n",
    "dataloader = ndl.data.DataLoader(dataset=dataset,\n",
    "                                 batch_size=128,\n",
    "                                 shuffle=True,\n",
    "                                 #collate_fn=ndl.data.collate_ndarray,\n",
    "                                 device=device)\n",
    "# training and evaluation\n",
    "model = ResNet9(device=device,\n",
    "                dtype=dtype)\n",
    "train_cifar10(model=model,\n",
    "              dataloader=dataloader,\n",
    "              n_epochs=5,\n",
    "              optimizer=ndl.optim.Adam,\n",
    "              lr=0.001,\n",
    "              weight_decay=0.001,\n",
    "              loss_fn=nn.SoftmaxLoss())\n",
    "#evaluate_cifar10(model, dataloader)"
   ]
  },
  {
   "cell_type": "code",
   "execution_count": null,
   "id": "d363ea03-1d06-4420-9201-9a141e8dfbe0",
   "metadata": {},
   "outputs": [],
   "source": [
    "from models import LanguageModel\n",
    "from simple_training import train_ptb, evaluate_ptb"
   ]
  },
  {
   "cell_type": "code",
   "execution_count": 9,
   "id": "9a92d214-1e34-447e-9655-279e2694e957",
   "metadata": {},
   "outputs": [
    {
     "name": "stderr",
     "output_type": "stream",
     "text": [
      "100%|██████████| 100/100 [00:00<00:00, 16287.93it/s]\n",
      "100%|██████████| 100/100 [00:00<00:00, 7305.11it/s]\n"
     ]
    },
    {
     "name": "stdout",
     "output_type": "stream",
     "text": [
      "epoch: 0\tloss: 6.75873082284709\taccuracy: 0.042938931297709926\n",
      "epoch: 1\tloss: 6.322496254025525\taccuracy: 0.05820610687022901\n",
      "epoch: 2\tloss: 6.134911457090888\taccuracy: 0.05486641221374046\n",
      "epoch: 3\tloss: 6.004580898139313\taccuracy: 0.05104961832061069\n",
      "epoch: 4\tloss: 5.884269423157204\taccuracy: 0.05438931297709924\n",
      "epoch: 5\tloss: 5.806160730260019\taccuracy: 0.060114503816793896\n",
      "epoch: 6\tloss: 5.658001848759542\taccuracy: 0.05820610687022901\n",
      "epoch: 7\tloss: 5.592525569537214\taccuracy: 0.06202290076335878\n",
      "epoch: 8\tloss: 5.496141739473998\taccuracy: 0.061545801526717556\n",
      "epoch: 9\tloss: 5.438265967915076\taccuracy: 0.05629770992366412\n"
     ]
    },
    {
     "data": {
      "text/plain": [
       "(0.05629770992366412, 5.438265967915076)"
      ]
     },
     "execution_count": 9,
     "metadata": {},
     "output_type": "execute_result"
    }
   ],
   "source": [
    "# prepare data\n",
    "corpus = ndl.data.Corpus(base_dir=\"data/ptb\",\n",
    "                         max_lines=100)\n",
    "train_data = ndl.data.batchify(data=corpus.train,\n",
    "                               batch_size=16,\n",
    "                               device=device,\n",
    "                               dtype=dtype)\n",
    "# training and evaluation\n",
    "model = LanguageModel(embedding_size=30,\n",
    "                      output_size=len(corpus.dictionary),\n",
    "                      hidden_size=10,\n",
    "                      num_layers=2,\n",
    "                      seq_model='rnn',\n",
    "                      device=device,\n",
    "                      dtype=dtype)\n",
    "train_ptb(model=model,\n",
    "          data=train_data,\n",
    "          seq_len=10,\n",
    "          n_epochs=10,\n",
    "          optimizer=ndl.optim.SGD,\n",
    "          lr=4.0,\n",
    "          weight_decay=0.0,\n",
    "          loss_fn=nn.SoftmaxLoss(),\n",
    "          device=device,\n",
    "          dtype=dtype)\n",
    "#evaluate_ptb(model, train_data, seq_len=40, device=device)"
   ]
  }
 ],
 "metadata": {
  "kernelspec": {
   "display_name": "Python 3",
   "language": "python",
   "name": "python3"
  },
  "language_info": {
   "codemirror_mode": {
    "name": "ipython",
    "version": 3
   },
   "file_extension": ".py",
   "mimetype": "text/x-python",
   "name": "python",
   "nbconvert_exporter": "python",
   "pygments_lexer": "ipython3",
   "version": "3.9.15"
  }
 },
 "nbformat": 4,
 "nbformat_minor": 5
}
