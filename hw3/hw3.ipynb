{
 "cells": [
  {
   "cell_type": "markdown",
   "id": "8df9ee98",
   "metadata": {
    "id": "b38216e2"
   },
   "source": [
    "# Homework 3: Building an NDArray library\n",
    "\n",
    "In this homework, you will build a simple backing library for the processing that underlies most deep learning systems: the $n$-dimensional array (a.k.a. NDArray).  Up until now, you have largely been using NumPy for this purpose, but this homework will walk you through developing what amounts to your own (albeit much more limited) variant of NumPy, which will support both CPU and GPU backends.  What's more, unlike NumPy (and even variants like PyTorch), you won't simply call out to existing highly-optimized variants of matrix multiplication or other manipulation code, but actually write your own versions that are reasonably competitive with the highly optimized code backing these standard libraries (by some measure, i.e., \"only\" $2$-$3$x slower…a whole lot better than naive code that can easily be $100$x slower).  This homework will ultimately be integrated into `needle`, but for this assignment, you may **only** focus on the NDArray module, which is the only subject of the tests.\n"
   ]
  },
  {
   "cell_type": "code",
   "execution_count": null,
   "id": "a1590111",
   "metadata": {
    "id": "db5a484c"
   },
   "outputs": [],
   "source": [
    "# Code to set up the assignment\n",
    "from google.colab import drive\n",
    "drive.mount('/content/drive')\n",
    "%cd /content/drive/MyDrive/\n",
    "!mkdir -p 10714\n",
    "%cd /content/drive/MyDrive/10714\n",
    "!git clone https://github.com/dlsys10714/hw3.git\n",
    "%cd /content/drive/MyDrive/10714/hw3"
   ]
  },
  {
   "cell_type": "code",
   "execution_count": 1,
   "id": "c69f7ee0-cb47-469f-9bb6-0761af17d0bf",
   "metadata": {},
   "outputs": [
    {
     "name": "stdout",
     "output_type": "stream",
     "text": [
      "Collecting git+https://github.com/dlsys10714/mugrade.git\n",
      "  Cloning https://github.com/dlsys10714/mugrade.git to /tmp/pip-req-build-ym9cy0cl\n",
      "  Running command git clone --filter=blob:none --quiet https://github.com/dlsys10714/mugrade.git /tmp/pip-req-build-ym9cy0cl\n",
      "  Resolved https://github.com/dlsys10714/mugrade.git to commit 98609ee80ee24bf278455b48aa8d06bd3f5d0430\n",
      "  Preparing metadata (setup.py) ... \u001b[?25ldone\n",
      "\u001b[?25hRequirement already satisfied: pybind11 in /home/willyu/anaconda3/envs/10-414/lib/python3.9/site-packages (2.10.0)\n"
     ]
    }
   ],
   "source": [
    "!pip3 install --upgrade --no-deps git+https://github.com/dlsys10714/mugrade.git\n",
    "!pip3 install pybind11"
   ]
  },
  {
   "cell_type": "code",
   "execution_count": 45,
   "id": "06d6c5e0",
   "metadata": {
    "id": "09eedbc6"
   },
   "outputs": [
    {
     "name": "stdout",
     "output_type": "stream",
     "text": [
      "-- Found pybind11: /home/willyu/anaconda3/envs/10-414/lib/python3.9/site-packages/pybind11/include (found version \"2.10.0\")\n",
      "-- Found cuda, building cuda backend\n",
      "Wed Nov 16 21:30:10 2022       \n",
      "+-----------------------------------------------------------------------------+\n",
      "| NVIDIA-SMI 470.57.02    Driver Version: 470.57.02    CUDA Version: 11.4     |\n",
      "|-------------------------------+----------------------+----------------------+\n",
      "| GPU  Name        Persistence-M| Bus-Id        Disp.A | Volatile Uncorr. ECC |\n",
      "| Fan  Temp  Perf  Pwr:Usage/Cap|         Memory-Usage | GPU-Util  Compute M. |\n",
      "|                               |                      |               MIG M. |\n",
      "|===============================+======================+======================|\n",
      "|   0  NVIDIA GeForce ...  On   | 00000000:06:00.0 Off |                  N/A |\n",
      "| 30%   50C    P8    27W / 350W |  15946MiB / 24268MiB |      0%      Default |\n",
      "|                               |                      |                  N/A |\n",
      "+-------------------------------+----------------------+----------------------+\n",
      "|   1  NVIDIA GeForce ...  On   | 00000000:41:00.0 Off |                  N/A |\n",
      "| 95%   91C    P2   285W / 350W |   7183MiB / 24268MiB |     99%      Default |\n",
      "|                               |                      |                  N/A |\n",
      "+-------------------------------+----------------------+----------------------+\n",
      "|   2  NVIDIA GeForce ...  On   | 00000000:61:00.0 Off |                  N/A |\n",
      "| 85%   71C    P2   310W / 350W |   7009MiB / 24268MiB |     95%      Default |\n",
      "|                               |                      |                  N/A |\n",
      "+-------------------------------+----------------------+----------------------+\n",
      "                                                                               \n",
      "+-----------------------------------------------------------------------------+\n",
      "| Processes:                                                                  |\n",
      "|  GPU   GI   CI        PID   Type   Process name                  GPU Memory |\n",
      "|        ID   ID                                                   Usage      |\n",
      "|=============================================================================|\n",
      "|    0   N/A  N/A      1410      G   /usr/lib/xorg/Xorg                  4MiB |\n",
      "|    0   N/A  N/A     58261      C   ...nda3/envs/3361/bin/python    15685MiB |\n",
      "|    0   N/A  N/A   2748028      C   ...a3/envs/10-414/bin/python      253MiB |\n",
      "|    1   N/A  N/A      1410      G   /usr/lib/xorg/Xorg                  4MiB |\n",
      "|    1   N/A  N/A   1302699      C   python                           7175MiB |\n",
      "|    2   N/A  N/A      1410      G   /usr/lib/xorg/Xorg                  4MiB |\n",
      "|    2   N/A  N/A   1302699      C   python                           7001MiB |\n",
      "+-----------------------------------------------------------------------------+\n",
      "-- Autodetected CUDA architecture(s):  8.6 8.6 8.6\n",
      "-- Configuring done\n",
      "-- Generating done\n",
      "-- Build files have been written to: /home/willyu/10-414/hw3/build\n",
      "make[1]: Entering directory '/home/willyu/10-414/hw3/build'\n",
      "make[2]: Entering directory '/home/willyu/10-414/hw3/build'\n",
      "make[3]: Entering directory '/home/willyu/10-414/hw3/build'\n",
      "[ 25%] \u001b[34m\u001b[1mBuilding NVCC (Device) object CMakeFiles/ndarray_backend_cuda.dir/src/ndarray_backend_cuda_generated_ndarray_backend_cuda.cu.o\u001b[0m\n",
      "/home/willyu/10-414/hw3/src/ndarray_backend_cuda.cu(637): warning #177-D: variable \"xb\" was declared but never referenced\n",
      "\n",
      "/home/willyu/10-414/hw3/src/ndarray_backend_cuda.cu(638): warning #177-D: variable \"yb\" was declared but never referenced\n",
      "\n",
      "make[3]: Leaving directory '/home/willyu/10-414/hw3/build'\n",
      "make[3]: Entering directory '/home/willyu/10-414/hw3/build'\n",
      "[ 50%] \u001b[32m\u001b[1mLinking CXX shared module ../python/needle/backend_ndarray/ndarray_backend_cuda.cpython-39-x86_64-linux-gnu.so\u001b[0m\n",
      "make[3]: Leaving directory '/home/willyu/10-414/hw3/build'\n",
      "[ 50%] Built target ndarray_backend_cuda\n",
      "make[3]: Entering directory '/home/willyu/10-414/hw3/build'\n",
      "make[3]: Leaving directory '/home/willyu/10-414/hw3/build'\n",
      "[100%] Built target ndarray_backend_cpu\n",
      "make[2]: Leaving directory '/home/willyu/10-414/hw3/build'\n",
      "make[1]: Leaving directory '/home/willyu/10-414/hw3/build'\n"
     ]
    }
   ],
   "source": [
    "!make"
   ]
  },
  {
   "cell_type": "code",
   "execution_count": 1,
   "id": "bcd4dc59",
   "metadata": {
    "id": "glK6Q7Ik-2cJ"
   },
   "outputs": [
    {
     "name": "stdout",
     "output_type": "stream",
     "text": [
      "env: PYTHONPATH=./python\n"
     ]
    }
   ],
   "source": [
    "%set_env PYTHONPATH ./python"
   ]
  },
  {
   "cell_type": "code",
   "execution_count": 2,
   "id": "c6791428",
   "metadata": {
    "id": "e7aadcf9"
   },
   "outputs": [],
   "source": [
    "import sys\n",
    "sys.path.append('./python')"
   ]
  },
  {
   "cell_type": "markdown",
   "id": "4d9f9524",
   "metadata": {
    "id": "899bc262"
   },
   "source": [
    "## Getting familiar with the NDArray class\n",
    "\n",
    "As you get started with this homework, you should first familiarize yourself with the NDArray class we have provided as a starting point for the assignment (in [`ndarray.py`](./python/needle/backend_ndarray/ndarray.py)). The code is fairly brief (about $500$ lines, a lot of which are comments for the functions to implement).\n",
    "\n",
    "At its core, the NDArray class is a Python wrapper for handling operations on generic $n$-dimensional arrays. Recall that virtually any such array is stored internally as a vector of floating point values, i.e.,\n",
    "\n",
    "```c++\n",
    "float data[size];\n",
    "```\n",
    "\n",
    "and then the actual access to different dimensions of the array are all handled by additional fields (such as the array shape, strides, etc) that indicates how this \"flat\" array maps to $n$-dimensional structure.  In order to achieve any sort of reasonable speed, all the \"raw\" operations (like adding, binary operations, but also more structured operations like matrix multiplication, etc) need to be written at some level in some native language like C++, including CUDA calls. But a large number of operations likes transposing, broadcasting, sub-setting of matrices, and other, can all be handled by just adjusting the high-level structure of the array, like its strides.\n",
    "\n",
    "The philosophy behind the NDArray class is that we want **all** the logic for handling the structure of an array written in Python.  Only the \"true\" low level code that actually performs the raw underlying operations on the flat vector (as well as the code to manage these flat vectors, as they might need to, e.g., be allocated on GPUs), is written in C++.  The precise nature of this separation will likely start to make more sense to you as you work through the assignment, but generally speaking everything that can be done in Python is done in Python; often e.g., at the cost of some inefficiencies…we call `.compact()` (which copies memory) liberally in order to make the underlying C++ implementations simpler.\n",
    "\n",
    "In more detail, there are five fields within the NDArray class that you'll need to be familiar with (note that the real class member these all these fields is preceded by an underscore, e.g., `_handle`, `_strides`, etc, some of which are then exposed as a public property ... for all your code it's fine to use the internal, underscored version).\n",
    "\n",
    "1. `device` - An object of type `BackendDevice`, which is a simple wrapper that contains a link to the underlying device backend (e.g., CPU or CUDA).\n",
    "2. `handle` - A class objected that stores the underlying memory of the array.  This is allocated as a class of type `device.Array()`, though this allocation all happens in the provided code (specifically the `NDArray.make` function), and you don't need to worry about calling it yourself.\n",
    "3. `shape` - A tuple specifying the size of each dimension in the array.\n",
    "4. `strides` - A tuple specifying the strides of each dimension in the array.\n",
    "5. `offset` - An integer indicating where in the underlying `device.Array` memory the array actually starts (it's convenient to store this so we can more easily manage pointing back to existing memory, without having to track allocations).\n",
    "\n",
    "By manipulating these fields, even pure Python code can perform a lot of the needed operations on the array, such as permuting the dimensions (i.e., transpose), broadcasting, and more.  And then for the raw array manipulation calls, the `device` class has a number of methods (implemented in C++) that contains the necessary implementations.\n",
    "\n",
    "There are a few points to note:\n",
    "\n",
    "* Internally, the class can use **any** efficient means of operating on arrays of data as a \"device\" backend.  Even, for example, a NumPy array, but where instead of actually using the `numpy.ndarray` to represent the $n$-dimensional array, we just represent a \"flat\" 1D array in NumPy, then call the relevant NumPy methods to implement all the needed operators on this raw memory.  This is precisely what we do in [`ndarray_backend_numpy.py`](./python/needle/backend_ndarray/ndarray_backend_numpy.py), which essentially provides a \"stub reference\" that just uses NumPy for everything.  You can use this class to help you  better debug your own \"real\" implementations for the \"native\" CPU and GPU backends.\n",
    "* Of particular importance for many of your Python implementations will be the `NDArray.make` call:\n",
    "```python\n",
    "def make(shape, strides=None, device=None, handle=None, offset=0):\n",
    "```\n",
    "which creates a new NDArray with the given shape, strides, device, handle, and offset.  If `handle` is not specified (i.e., no pre-existing memory is referenced), then the call will allocate the needed memory, but if handle **is** specified then no new memory is allocated, but the new NDArray points the same memory as the old one.  It is important to efficient implementations that as many of your functions as possible **don't** allocate new memory, so you will want to use this call in many cases to accomplish this.\n",
    "* The NDArray has a `.numpy()` call that converts the array to a NumPy one.  This is **not** the same as the `numpy_device` backend: this creates an actual `numpy.ndarray` that is equivalent to the given NDArray, i.e., the same dimensions, shape, etc, though not necessarily the same strides (pybind11 will reallocate memory for matrices that are returned in this manner, which can change striding).\n"
   ]
  },
  {
   "cell_type": "markdown",
   "id": "1cebe5a2",
   "metadata": {
    "id": "cc7c24db"
   },
   "source": [
    "## Part 1: Python array operations\n",
    "\n",
    "As a starting point for your class, implement the following functions in [`ndarray.py`](./python/needle/backend_ndarray/ndarray.py):\n",
    "\n",
    "- `reshape()`\n",
    "- `permute()`\n",
    "- `broadcast_to()`\n",
    "- `__getitem__()`\n",
    "\n",
    "The inputs/outputs of these functions are all described in the docstring of the function stub.  It's important to emphasize that **none** of these functions should reallocate memory, but should instead return NDArrays that share the same memory with `self`, and just use clever manipulation of shape/strides/etc in order to obtain the necessary transformations.\n",
    "\n",
    "One thing to note is that the `__getitem__()` call, unlike NumPy, will **never** change the number of dimensions in the array.  So e.g., for a $2$D NDArray `A`, `A[2,2]` would still return a $2$D with one row and one column.  And e.g. `A[:4,2]` would return a $2$D NDarray with $4$ rows and $1$ column.\n",
    "\n",
    "You can rely on [`ndarray_backend_numpy.py`](./python/needle/backend_ndarray/ndarray_backend_numpy.py) for all the code in this section. You can also look at the results of equivalent NumPy operations (the test cases should illustrate what these are).\n",
    "\n",
    "Note that we test all of these four functions within the test below, and you can incrementally try to pass more tests as you implement each additional function."
   ]
  },
  {
   "cell_type": "code",
   "execution_count": 51,
   "id": "35fe74f4",
   "metadata": {
    "id": "835c3880"
   },
   "outputs": [
    {
     "name": "stdout",
     "output_type": "stream",
     "text": [
      "\u001b[1m============================= test session starts ==============================\u001b[0m\n",
      "platform linux -- Python 3.9.13, pytest-7.1.3, pluggy-1.0.0 -- /home/willyu/anaconda3/envs/10-414/bin/python3\n",
      "cachedir: .pytest_cache\n",
      "rootdir: /home/willyu/10-414/hw3\n",
      "plugins: anyio-3.6.1\n",
      "collected 124 items / 114 deselected / 10 selected                             \u001b[0m\n",
      "\n",
      "tests/test_ndarray.py::test_permute[cpu-params0] \u001b[32mPASSED\u001b[0m\u001b[32m                  [ 10%]\u001b[0m\n",
      "tests/test_ndarray.py::test_permute[cpu-params1] \u001b[32mPASSED\u001b[0m\u001b[32m                  [ 20%]\u001b[0m\n",
      "tests/test_ndarray.py::test_permute[cpu-params2] \u001b[32mPASSED\u001b[0m\u001b[32m                  [ 30%]\u001b[0m\n",
      "tests/test_ndarray.py::test_reshape[cpu-params0] \u001b[32mPASSED\u001b[0m\u001b[32m                  [ 40%]\u001b[0m\n",
      "tests/test_ndarray.py::test_reshape[cpu-params1] \u001b[32mPASSED\u001b[0m\u001b[32m                  [ 50%]\u001b[0m\n",
      "tests/test_ndarray.py::test_getitem[cpu-params0] \u001b[32mPASSED\u001b[0m\u001b[32m                  [ 60%]\u001b[0m\n",
      "tests/test_ndarray.py::test_getitem[cpu-params1] \u001b[32mPASSED\u001b[0m\u001b[32m                  [ 70%]\u001b[0m\n",
      "tests/test_ndarray.py::test_getitem[cpu-params2] \u001b[32mPASSED\u001b[0m\u001b[32m                  [ 80%]\u001b[0m\n",
      "tests/test_ndarray.py::test_getitem[cpu-params3] \u001b[32mPASSED\u001b[0m\u001b[32m                  [ 90%]\u001b[0m\n",
      "tests/test_ndarray.py::test_broadcast_to[cpu-params0] \u001b[32mPASSED\u001b[0m\u001b[32m             [100%]\u001b[0m\n",
      "\n",
      "\u001b[32m====================== \u001b[32m\u001b[1m10 passed\u001b[0m, \u001b[33m114 deselected\u001b[0m\u001b[32m in 0.20s\u001b[0m\u001b[32m ======================\u001b[0m\n"
     ]
    }
   ],
   "source": [
    "!python3 -m pytest -v -k \"(permute or reshape or broadcast or getitem) and cpu and not compact\""
   ]
  },
  {
   "cell_type": "code",
   "execution_count": 197,
   "id": "a02fad60",
   "metadata": {
    "id": "071b3063"
   },
   "outputs": [
    {
     "name": "stdout",
     "output_type": "stream",
     "text": [
      "submit\n",
      "\u001b[1m============================= test session starts ==============================\u001b[0m\n",
      "platform linux -- Python 3.9.13, pytest-7.1.3, pluggy-1.0.0\n",
      "rootdir: /home/willyu/10-414/hw3\n",
      "plugins: anyio-3.6.1\n",
      "collected 9 items / 8 deselected / 1 selected                                  \u001b[0m\n",
      "\n",
      "tests/test_ndarray.py \n",
      "Submitting ndarray_python_ops...\n",
      "Grader test 1 passed\n",
      "Grader test 2 passed\n",
      "Grader test 3 passed\n",
      "Grader test 4 passed\n",
      "Grader test 5 passed\n",
      "Grader test 6 passed\n",
      "Grader test 7 passed\n",
      "Grader test 8 passed\n",
      "Grader test 9 passed\n",
      "Grader test 10 passed\n",
      "\u001b[32m.\u001b[0m\n",
      "\n",
      "\u001b[32m======================= \u001b[32m\u001b[1m1 passed\u001b[0m, \u001b[33m8 deselected\u001b[0m\u001b[32m in 11.39s\u001b[0m\u001b[32m =======================\u001b[0m\n"
     ]
    }
   ],
   "source": [
    "!python3 -m mugrade submit \"_2wS9QjetWr7kunof2FdD\" -k \"ndarray_python_ops\""
   ]
  },
  {
   "cell_type": "markdown",
   "id": "7dab0e8c",
   "metadata": {
    "id": "21f48d27"
   },
   "source": [
    "## Part 2: CPU Backend - Compact and setitem\n",
    "\n",
    "Implement the following functions in `ndarray_backend_cpu.cc`:\n",
    "* `Compact()`\n",
    "* `EwiseSetitem()`\n",
    "* `ScalarSetitem()`\n",
    "\n",
    "To see why these are all in the same category, let's consider the implementation of the `Compact()` function. Recall that a matrix is considered compact if it is laid out sequentially in memory in a \"row-major\" fashion (but really a generalization of row — many to higher dimensional arrays), i.e. with the last dimension first, followed by the second to last dimension, etc, all the way to the first.  In our implementation, we also require that the total size of allocated backend array be equal to the size of the array (i.e., the underlying array also cannot have any data before or after the array data, which e.g., implies that the `.offset` field equals zero).\n",
    "\n",
    "Now let's consider, taking a $3$D array for example, how a `Compact()` call might work.  Here `shape` and `strides` are the shape and strides of the matrix being compacted (i.e., before we have compacted it).\n",
    "\n",
    "```c++\n",
    "cnt = 0;\n",
    "for (size_t i = 0; i < shape[0]; i++)\n",
    "    for (size_t j = 0; j < shape[1]; j++)\n",
    "        for (size_t k = 0; k < shape[2]; k++)\n",
    "            out[cnt++] = in[strides[0]*i + strides[1]*j + strides[2]*k];\n",
    "```\n",
    "In other words, we're converting from a stride-based representation of the matrix to a purely sequential one.\n",
    "\n",
    "Now, the challenge in implementing `Compact()` is that you want the method to work for **any** number of input dimensions.  It's easy to specialize for different fixed-dimension-size arrays, but for a generic implementation, you'll want to think about how to do this same operation where you effectively want a \"variable number of `for` loops\".  As a hint, one way to do this is to maintain a `vector` of indices (of size equal to the number of dimensions), and then manually increment them in a loop (including a \"carry\" operation when any of the reaches their maximum size).\n",
    "\n",
    "However, if you get really stuck with this, you can alway use the fact that we're probably not going to ask you to deal with matrices of more than $6$ dimensions (though we **will** use $6$ dimensions, for the im2col operation we discussed in class)."
   ]
  },
  {
   "cell_type": "markdown",
   "id": "d3a7d2a9-8c8d-4991-8599-ba15c090d96e",
   "metadata": {},
   "source": [
    "This is essentially a \"multi-radix\" number. Let's start from a conventional decimal.\n",
    "\n",
    "$$\n",
    "414 = 4 \\times 10^2 + 1 \\times 10^\\color{gray}{1} + 4 \\times 10^0\n",
    "$$\n",
    "\n",
    "The MSB is $\\left\\lfloor\\frac{414}{10 \\times 10}\\right\\rfloor \\text{mod} \\ 10 = 4$. How is it related to shape and strides? Take a $(4, 7, 3, 5)$ tensor for example, which contains $420$ elements. The $338$th item in memory is indexed by $[3, 1, 1, 3]$, with\n",
    "\n",
    "$$\n",
    "338 = \\color{blue}{3} \\times (7 \\times 3 \\times 5) + \\color{blue}{1} \\times (3 \\times 5) + \\color{blue}{1} \\times 5 + \\color{blue}{3} \\color{gray}{\\times 1}\n",
    "$$\n",
    "\n",
    "In this case, the MSB is $\\left\\lfloor\\frac{338}{7 \\times 3 \\times 5}\\right\\rfloor \\text{mod} \\ 4 = 3$. The divisor is actually the cumulative product of less significant dimensions, and the formula holds for any bit."
   ]
  },
  {
   "cell_type": "markdown",
   "id": "a649b3ad-9aa7-4214-a29b-3ad384401200",
   "metadata": {},
   "source": [
    "### An implementation caveat\n",
    "\n",
    "The above solution demands computation of cumulative product of the `shape` `vector` in a reverse manner. One may be tempted to use\n",
    "\n",
    "```c++\n",
    "for (size_t i = shape.size() - 2; i >= 0; i--) {\n",
    "    carry[i] = carry[i + 1] * shape[i + 1];\n",
    "}\n",
    "```\n",
    "\n",
    "which is **incorrect** due to an **infinite loop**. This is because `size_t` functions similarly to `unsigned int`. When $1$ is substracted from $0$, the result $\\verb|0b11|\\ldots\\verb|1|$ is interpreted by the compiler as the **maximum** representable **positive** number. Thus, the loop never terminates. There are $2$ alternatives to the problem\n",
    "\n",
    "1. declare the index `i` as `int` rather than `size_t` or `unsigned int`, or\n",
    "2. use the \"downto\" operator `-->`<br>\n",
    "   ```c++\n",
    "   for (auto i = shape.size() - 1; i --> 0; ) {\n",
    "       carry[i] = carry[i + 1] * shape[i + 1];\n",
    "   }\n",
    "   ```\n",
    "\n",
    "As a side note, when we do **not** care about indices when traversing an iterable, the following works\n",
    "\n",
    "```c++\n",
    "std::reverse(v.begin(), v.end()); // optionally reverse an iterable\n",
    "for (auto i : v){\n",
    "    // statement\n",
    "}\n",
    "```"
   ]
  },
  {
   "cell_type": "markdown",
   "id": "01b2da64-4dc9-41ce-8cc2-1b20d5ea89c4",
   "metadata": {},
   "source": [
    "### Connection to `setitem`\n",
    "\n",
    "The `setitem` functionality, while seemingly quite different, is actually intimately related to `Compact()`.  `__setitem()__` is the Python function called when setting some elements of the object, i.e.,\n",
    "```python\n",
    "A[ : :2, 4:5, 9] = 0 # or = some_other_array\n",
    "```\n",
    "How would you go about implementing this?  In the `__getitem()__` call above, you already implemented a method to take a subset of a matrix without copying (but just modifying strides).  But how would you actually go about setting elements of this array?  In virtually all the other settings in this homework, we call `.compact()` before setting items in an output array, but in this case it **doesn't** work: calling `.compact()` would copy the subset array to some new memory, but the whole point of the `__setitem__()` call is that we want to modify existing memory.\n",
    "\n",
    "If you think about this for a while, you'll realize that the answer looks a lot like `.compact()` but in reverse.  If we want to assign a (itself already compact) right hand side matrix to a `__getitem()__` results, then we need here like `shape` and `stride` to be those fields of the **output** matrix.  Then we could implement the setitem call as follows\n",
    "\n",
    "```c++\n",
    "cnt = 0;\n",
    "for (size_t i = 0; i < shape[0]; i++)\n",
    "    for (size_t j = 0; j < shape[1]; j++)\n",
    "        for (size_t k = 0; k < shape[2]; k++)\n",
    "            out[strides[0]*i + strides[1]*j + strides[2]*k] = in[cnt++]; // or \"= val;\"\n",
    "```\n",
    "Due to this similarity, if you implement your indexing strategy in a modular fashion, you'll be able to reuse it between the `Compact()` call and the `EwiseSetitem()` and `ScalarSetitem()` calls."
   ]
  },
  {
   "cell_type": "code",
   "execution_count": 59,
   "id": "8f154cf2",
   "metadata": {
    "id": "758969a1"
   },
   "outputs": [
    {
     "name": "stdout",
     "output_type": "stream",
     "text": [
      "\u001b[1m============================= test session starts ==============================\u001b[0m\n",
      "platform linux -- Python 3.9.13, pytest-7.1.3, pluggy-1.0.0 -- /home/willyu/anaconda3/envs/10-414/bin/python3\n",
      "cachedir: .pytest_cache\n",
      "rootdir: /home/willyu/10-414/hw3\n",
      "plugins: anyio-3.6.1\n",
      "collected 136 items / 121 deselected / 15 selected                             \u001b[0m\n",
      "\n",
      "tests/test_ndarray.py::test_compact[cpu-transpose] \u001b[32mPASSED\u001b[0m\u001b[32m                [  6%]\u001b[0m\n",
      "tests/test_ndarray.py::test_compact[cpu-broadcast_to] \u001b[32mPASSED\u001b[0m\u001b[32m             [ 13%]\u001b[0m\n",
      "tests/test_ndarray.py::test_compact[cpu-reshape1] \u001b[32mPASSED\u001b[0m\u001b[32m                 [ 20%]\u001b[0m\n",
      "tests/test_ndarray.py::test_compact[cpu-reshape2] \u001b[32mPASSED\u001b[0m\u001b[32m                 [ 26%]\u001b[0m\n",
      "tests/test_ndarray.py::test_compact[cpu-reshape3] \u001b[32mPASSED\u001b[0m\u001b[32m                 [ 33%]\u001b[0m\n",
      "tests/test_ndarray.py::test_compact[cpu-getitem1] \u001b[32mPASSED\u001b[0m\u001b[32m                 [ 40%]\u001b[0m\n",
      "tests/test_ndarray.py::test_compact[cpu-getitem2] \u001b[32mPASSED\u001b[0m\u001b[32m                 [ 46%]\u001b[0m\n",
      "tests/test_ndarray.py::test_compact[cpu-transposegetitem] \u001b[32mPASSED\u001b[0m\u001b[32m         [ 53%]\u001b[0m\n",
      "tests/test_ndarray.py::test_setitem_ewise[cpu-params0] \u001b[32mPASSED\u001b[0m\u001b[32m            [ 60%]\u001b[0m\n",
      "tests/test_ndarray.py::test_setitem_ewise[cpu-params1] \u001b[32mPASSED\u001b[0m\u001b[32m            [ 66%]\u001b[0m\n",
      "tests/test_ndarray.py::test_setitem_ewise[cpu-params2] \u001b[32mPASSED\u001b[0m\u001b[32m            [ 73%]\u001b[0m\n",
      "tests/test_ndarray.py::test_setitem_scalar[cpu-params0] \u001b[32mPASSED\u001b[0m\u001b[32m           [ 80%]\u001b[0m\n",
      "tests/test_ndarray.py::test_setitem_scalar[cpu-params1] \u001b[32mPASSED\u001b[0m\u001b[32m           [ 86%]\u001b[0m\n",
      "tests/test_ndarray.py::test_setitem_scalar[cpu-params2] \u001b[32mPASSED\u001b[0m\u001b[32m           [ 93%]\u001b[0m\n",
      "tests/test_ndarray.py::test_setitem_scalar[cpu-params3] \u001b[32mPASSED\u001b[0m\u001b[32m           [100%]\u001b[0m\n",
      "\n",
      "\u001b[32m====================== \u001b[32m\u001b[1m15 passed\u001b[0m, \u001b[33m121 deselected\u001b[0m\u001b[32m in 0.20s\u001b[0m\u001b[32m ======================\u001b[0m\n"
     ]
    }
   ],
   "source": [
    "!python3 -m pytest -v -k \"(compact or setitem) and cpu\""
   ]
  },
  {
   "cell_type": "code",
   "execution_count": 196,
   "id": "885a12cd",
   "metadata": {
    "id": "74c98f6c"
   },
   "outputs": [
    {
     "name": "stdout",
     "output_type": "stream",
     "text": [
      "submit\n",
      "\u001b[1m============================= test session starts ==============================\u001b[0m\n",
      "platform linux -- Python 3.9.13, pytest-7.1.3, pluggy-1.0.0\n",
      "rootdir: /home/willyu/10-414/hw3\n",
      "plugins: anyio-3.6.1\n",
      "collected 9 items / 8 deselected / 1 selected                                  \u001b[0m\n",
      "\n",
      "tests/test_ndarray.py \n",
      "Submitting ndarray_cpu_compact_setitem...\n",
      "Grader test 1 passed\n",
      "Grader test 2 passed\n",
      "Grader test 3 passed\n",
      "Grader test 4 passed\n",
      "Grader test 5 passed\n",
      "Grader test 6 passed\n",
      "Grader test 7 passed\n",
      "Grader test 8 passed\n",
      "\u001b[32m.\u001b[0m\n",
      "\n",
      "\u001b[32m======================= \u001b[32m\u001b[1m1 passed\u001b[0m, \u001b[33m8 deselected\u001b[0m\u001b[32m in 9.41s\u001b[0m\u001b[32m ========================\u001b[0m\n"
     ]
    }
   ],
   "source": [
    "!python3 -m mugrade submit \"_2wS9QjetWr7kunof2FdD\" -k \"ndarray_cpu_compact_setitem\""
   ]
  },
  {
   "cell_type": "markdown",
   "id": "ea65c869",
   "metadata": {
    "id": "9df3e8fb"
   },
   "source": [
    "## Part 3: CPU Backend - Elementwise and scalar operations\n",
    "\n",
    "Implement the following functions in `ndarray_backend_cpu.cc`:\n",
    "\n",
    "* `EwiseMul()`, `ScalarMul()`\n",
    "* `EwiseDiv()`, `ScalarDiv()`\n",
    "* `ScalarPower()`\n",
    "* `EwiseMaximum()`, `ScalarMaximum()`\n",
    "* `EwiseEq()`, `ScalarEq()`\n",
    "* `EwiseGe()`, `ScalarGe()`\n",
    "* `EwiseLog()`\n",
    "* `EwiseExp()`\n",
    "* `EwiseTanh()`\n",
    "\n",
    "You can look at the included\n",
    "`EwiseAdd()` and `ScalarAdd()` functions (plus the invocations from `NDArray` in order to understand the required format of these functions.\n",
    "\n",
    "Note that unlike the remaining functions mentioned here, we do not include function stubs for each of these functions.  This is because, while you can implement these naively just through implementing each function separately, though this will end up with a lot of duplicated code.  You're welcome to use e.g., C++ templates or macros to address this problem (but these would only be exposed internally, not to the external interface)."
   ]
  },
  {
   "cell_type": "code",
   "execution_count": 82,
   "id": "57214446",
   "metadata": {
    "id": "22943d08"
   },
   "outputs": [
    {
     "name": "stdout",
     "output_type": "stream",
     "text": [
      "\u001b[1m============================= test session starts ==============================\u001b[0m\n",
      "platform linux -- Python 3.9.13, pytest-7.1.3, pluggy-1.0.0 -- /home/willyu/anaconda3/envs/10-414/bin/python3\n",
      "cachedir: .pytest_cache\n",
      "rootdir: /home/willyu/10-414/hw3\n",
      "plugins: anyio-3.6.1\n",
      "collected 136 items / 113 deselected / 23 selected                             \u001b[0m\n",
      "\n",
      "tests/test_ndarray.py::test_ewise_fn[cpu-shape0-multiply] \u001b[32mPASSED\u001b[0m\u001b[32m         [  4%]\u001b[0m\n",
      "tests/test_ndarray.py::test_ewise_fn[cpu-shape0-divide] \u001b[32mPASSED\u001b[0m\u001b[32m           [  8%]\u001b[0m\n",
      "tests/test_ndarray.py::test_ewise_fn[cpu-shape0-add] \u001b[32mPASSED\u001b[0m\u001b[32m              [ 13%]\u001b[0m\n",
      "tests/test_ndarray.py::test_ewise_fn[cpu-shape0-subtract] \u001b[32mPASSED\u001b[0m\u001b[32m         [ 17%]\u001b[0m\n",
      "tests/test_ndarray.py::test_ewise_fn[cpu-shape0-equal] \u001b[32mPASSED\u001b[0m\u001b[32m            [ 21%]\u001b[0m\n",
      "tests/test_ndarray.py::test_ewise_fn[cpu-shape0-greater_than] \u001b[32mPASSED\u001b[0m\u001b[32m     [ 26%]\u001b[0m\n",
      "tests/test_ndarray.py::test_ewise_fn[cpu-shape1-multiply] \u001b[32mPASSED\u001b[0m\u001b[32m         [ 30%]\u001b[0m\n",
      "tests/test_ndarray.py::test_ewise_fn[cpu-shape1-divide] \u001b[32mPASSED\u001b[0m\u001b[32m           [ 34%]\u001b[0m\n",
      "tests/test_ndarray.py::test_ewise_fn[cpu-shape1-add] \u001b[32mPASSED\u001b[0m\u001b[32m              [ 39%]\u001b[0m\n",
      "tests/test_ndarray.py::test_ewise_fn[cpu-shape1-subtract] \u001b[32mPASSED\u001b[0m\u001b[32m         [ 43%]\u001b[0m\n",
      "tests/test_ndarray.py::test_ewise_fn[cpu-shape1-equal] \u001b[32mPASSED\u001b[0m\u001b[32m            [ 47%]\u001b[0m\n",
      "tests/test_ndarray.py::test_ewise_fn[cpu-shape1-greater_than] \u001b[32mPASSED\u001b[0m\u001b[32m     [ 52%]\u001b[0m\n",
      "tests/test_ndarray.py::test_ewise_max[cpu-shape0] \u001b[32mPASSED\u001b[0m\u001b[32m                 [ 56%]\u001b[0m\n",
      "tests/test_ndarray.py::test_ewise_max[cpu-shape1] \u001b[32mPASSED\u001b[0m\u001b[32m                 [ 60%]\u001b[0m\n",
      "tests/test_ndarray.py::test_scalar_mul[cpu] \u001b[32mPASSED\u001b[0m\u001b[32m                       [ 65%]\u001b[0m\n",
      "tests/test_ndarray.py::test_scalar_div[cpu] \u001b[32mPASSED\u001b[0m\u001b[32m                       [ 69%]\u001b[0m\n",
      "tests/test_ndarray.py::test_scalar_power[cpu] \u001b[32mPASSED\u001b[0m\u001b[32m                     [ 73%]\u001b[0m\n",
      "tests/test_ndarray.py::test_scalar_maximum[cpu] \u001b[32mPASSED\u001b[0m\u001b[33m                   [ 78%]\u001b[0m\n",
      "tests/test_ndarray.py::test_scalar_eq[cpu] \u001b[32mPASSED\u001b[0m\u001b[33m                        [ 82%]\u001b[0m\n",
      "tests/test_ndarray.py::test_scalar_ge[cpu] \u001b[32mPASSED\u001b[0m\u001b[33m                        [ 86%]\u001b[0m\n",
      "tests/test_ndarray.py::test_ewise_log[cpu] \u001b[32mPASSED\u001b[0m\u001b[33m                        [ 91%]\u001b[0m\n",
      "tests/test_ndarray.py::test_ewise_exp[cpu] \u001b[32mPASSED\u001b[0m\u001b[33m                        [ 95%]\u001b[0m\n",
      "tests/test_ndarray.py::test_ewise_tanh[cpu] \u001b[32mPASSED\u001b[0m\u001b[33m                       [100%]\u001b[0m\n",
      "\n",
      "\u001b[33m=============================== warnings summary ===============================\u001b[0m\n",
      "tests/test_ndarray.py::test_scalar_power[cpu]\n",
      "  /home/willyu/10-414/hw3/tests/test_ndarray.py:329: RuntimeWarning: invalid value encountered in power\n",
      "    np.testing.assert_allclose(np.power(A, 0.5), (B**0.5).numpy(), atol=1e-5, rtol=1e-5)\n",
      "\n",
      "-- Docs: https://docs.pytest.org/en/stable/how-to/capture-warnings.html\n",
      "\u001b[33m================ \u001b[32m23 passed\u001b[0m, \u001b[33m\u001b[1m113 deselected\u001b[0m, \u001b[33m\u001b[1m1 warning\u001b[0m\u001b[33m in 0.17s\u001b[0m\u001b[33m =================\u001b[0m\n"
     ]
    }
   ],
   "source": [
    "!python3 -m pytest -v -k \"(ewise_fn or ewise_max or log or exp or tanh or (scalar and not setitem)) and cpu\""
   ]
  },
  {
   "cell_type": "code",
   "execution_count": 195,
   "id": "3cbdbdea",
   "metadata": {
    "id": "fddba8d9"
   },
   "outputs": [
    {
     "name": "stdout",
     "output_type": "stream",
     "text": [
      "submit\n",
      "\u001b[1m============================= test session starts ==============================\u001b[0m\n",
      "platform linux -- Python 3.9.13, pytest-7.1.3, pluggy-1.0.0\n",
      "rootdir: /home/willyu/10-414/hw3\n",
      "plugins: anyio-3.6.1\n",
      "collected 9 items / 8 deselected / 1 selected                                  \u001b[0m\n",
      "\n",
      "tests/test_ndarray.py \n",
      "Submitting ndarray_cpu_ops...\n",
      "Grader test 1 passed\n",
      "Grader test 2 passed\n",
      "Grader test 3 passed\n",
      "Grader test 4 passed\n",
      "Grader test 5 passed\n",
      "Grader test 6 passed\n",
      "Grader test 7 passed\n",
      "Grader test 8 passed\n",
      "Grader test 9 passed\n",
      "Grader test 10 passed\n",
      "Grader test 11 passed\n",
      "Grader test 12 passed\n",
      "Grader test 13 passed\n",
      "Grader test 14 passed\n",
      "\u001b[32m.\u001b[0m\n",
      "\n",
      "\u001b[32m======================= \u001b[32m\u001b[1m1 passed\u001b[0m, \u001b[33m8 deselected\u001b[0m\u001b[32m in 15.98s\u001b[0m\u001b[32m =======================\u001b[0m\n"
     ]
    }
   ],
   "source": [
    "!python3 -m mugrade submit \"_2wS9QjetWr7kunof2FdD\" -k \"ndarray_cpu_ops\""
   ]
  },
  {
   "cell_type": "markdown",
   "id": "5cec515a",
   "metadata": {
    "id": "7be9fe7c"
   },
   "source": [
    "## Part 4: CPU Backend - Reductions\n",
    "\n",
    "\n",
    "Implement the following functions in `ndarray_backend_cpu.cc`:\n",
    "\n",
    "* `ReduceMax()`\n",
    "* `ReduceSum()`\n",
    "\n",
    "In general, the reduction functions `.max()` and `.sum()` in NDArray take the max or sum across a specified axis specified by the `axis` argument (or across the entire array when `axis=None`); note that we **don't** support axis being a set of axes, though this wouldn't be too hard to add if you desired (but it's not in the interface you should implement for the homework).\n",
    "\n",
    "Because summing over individual axes can be a bit tricky, even for compact arrays, these functions (in Python) simplify things by permuting the last axis to the be the one reduced over (this is what the `reduce_view_out()` function in NDArray does), then compacting the array.  So for your `ReduceMax()` and `ReduceSum()` functions implemented in C++, you can assume that both the input and output arrays are contiguous in memory, and you want to just reduce over contiguous elements of size `reduce_size` as passed to the C++ functions. "
   ]
  },
  {
   "cell_type": "code",
   "execution_count": 92,
   "id": "eddbbd7f",
   "metadata": {
    "id": "de5382b3"
   },
   "outputs": [
    {
     "name": "stdout",
     "output_type": "stream",
     "text": [
      "\u001b[1m============================= test session starts ==============================\u001b[0m\n",
      "platform linux -- Python 3.9.13, pytest-7.1.3, pluggy-1.0.0 -- /home/willyu/anaconda3/envs/10-414/bin/python3\n",
      "cachedir: .pytest_cache\n",
      "rootdir: /home/willyu/10-414/hw3\n",
      "plugins: anyio-3.6.1\n",
      "collected 136 items / 128 deselected / 8 selected                              \u001b[0m\n",
      "\n",
      "tests/test_ndarray.py::test_reduce_sum[params0-cpu] \u001b[32mPASSED\u001b[0m\u001b[32m               [ 12%]\u001b[0m\n",
      "tests/test_ndarray.py::test_reduce_sum[params1-cpu] \u001b[32mPASSED\u001b[0m\u001b[32m               [ 25%]\u001b[0m\n",
      "tests/test_ndarray.py::test_reduce_sum[params2-cpu] \u001b[32mPASSED\u001b[0m\u001b[32m               [ 37%]\u001b[0m\n",
      "tests/test_ndarray.py::test_reduce_sum[params3-cpu] \u001b[32mPASSED\u001b[0m\u001b[32m               [ 50%]\u001b[0m\n",
      "tests/test_ndarray.py::test_reduce_max[params0-cpu] \u001b[32mPASSED\u001b[0m\u001b[32m               [ 62%]\u001b[0m\n",
      "tests/test_ndarray.py::test_reduce_max[params1-cpu] \u001b[32mPASSED\u001b[0m\u001b[32m               [ 75%]\u001b[0m\n",
      "tests/test_ndarray.py::test_reduce_max[params2-cpu] \u001b[32mPASSED\u001b[0m\u001b[32m               [ 87%]\u001b[0m\n",
      "tests/test_ndarray.py::test_reduce_max[params3-cpu] \u001b[32mPASSED\u001b[0m\u001b[32m               [100%]\u001b[0m\n",
      "\n",
      "\u001b[32m====================== \u001b[32m\u001b[1m8 passed\u001b[0m, \u001b[33m128 deselected\u001b[0m\u001b[32m in 0.20s\u001b[0m\u001b[32m =======================\u001b[0m\n"
     ]
    }
   ],
   "source": [
    "!python3 -m pytest -v -k \"reduce and cpu\""
   ]
  },
  {
   "cell_type": "code",
   "execution_count": 194,
   "id": "58894dbc",
   "metadata": {
    "id": "a1f1f484"
   },
   "outputs": [
    {
     "name": "stdout",
     "output_type": "stream",
     "text": [
      "submit\n",
      "\u001b[1m============================= test session starts ==============================\u001b[0m\n",
      "platform linux -- Python 3.9.13, pytest-7.1.3, pluggy-1.0.0\n",
      "rootdir: /home/willyu/10-414/hw3\n",
      "plugins: anyio-3.6.1\n",
      "collected 9 items / 8 deselected / 1 selected                                  \u001b[0m\n",
      "\n",
      "tests/test_ndarray.py \n",
      "Submitting ndarray_cpu_reductions...\n",
      "Grader test 1 passed\n",
      "Grader test 2 passed\n",
      "Grader test 3 passed\n",
      "Grader test 4 passed\n",
      "Grader test 5 passed\n",
      "Grader test 6 passed\n",
      "Grader test 7 passed\n",
      "Grader test 8 passed\n",
      "\u001b[32m.\u001b[0m\n",
      "\n",
      "\u001b[32m======================= \u001b[32m\u001b[1m1 passed\u001b[0m, \u001b[33m8 deselected\u001b[0m\u001b[32m in 9.68s\u001b[0m\u001b[32m ========================\u001b[0m\n"
     ]
    }
   ],
   "source": [
    "!python3 -m mugrade submit \"_2wS9QjetWr7kunof2FdD\" -k \"ndarray_cpu_reductions\""
   ]
  },
  {
   "cell_type": "markdown",
   "id": "bdf7bf21",
   "metadata": {
    "id": "35e1e9c0"
   },
   "source": [
    "## Part 5: CPU Backend - Matrix multiplication\n",
    "\n",
    "Implement the following functions in `ndarray_backend_cpu.cc`:\n",
    "\n",
    "* `Matmul()`\n",
    "* `MatmulTiled()`\n",
    "* `AlignedDot()`\n",
    "\n",
    "The first implementation, `Matmul()` can use the naive triply-nested `for` loops for matrix multiplication.  However, the `MatmulTiled()` performs the same matrix multiplication on memory laid out in tiled form, i.e., as a contiguous $4$D array\n",
    "```c++\n",
    "float[M/TILE][N/TILE][TILE][TILE];\n",
    "```\n",
    "Note that the Python `__matmul__` code already does the conversion to tiled form when all sizes of the matrix multiplication are divisible by `TILE`, so your code just needs to implement the multiplication in this form.  In order to make the methods efficient, you will want to make use of (after you implement it), the `AlignedDot()` function, which will enable the compiler to efficiently make use of vector operations and proper caching.  The output matrix will also be in the tiled form above, and the Python backend will take care of the conversion to a normal 2D array.\n",
    "\n",
    "Note that in order to get the most speedup possible from you tiled version, you may want to use the clang compiler instead of gcc. To do this, run the following command before building your code."
   ]
  },
  {
   "cell_type": "code",
   "execution_count": 122,
   "id": "3bc2db08",
   "metadata": {
    "id": "28771449"
   },
   "outputs": [
    {
     "name": "stdout",
     "output_type": "stream",
     "text": [
      "\u001b[1m============================= test session starts ==============================\u001b[0m\n",
      "platform linux -- Python 3.9.13, pytest-7.1.3, pluggy-1.0.0 -- /home/willyu/anaconda3/envs/10-414/bin/python3\n",
      "cachedir: .pytest_cache\n",
      "rootdir: /home/willyu/10-414/hw3\n",
      "plugins: anyio-3.6.1\n",
      "collected 138 items / 127 deselected / 11 selected                             \u001b[0m\n",
      "\n",
      "tests/test_ndarray.py::test_matmul[16-16-16-cpu] \u001b[31mFAILED\u001b[0m\u001b[31m                  [  9%]\u001b[0m\n",
      "tests/test_ndarray.py::test_matmul[8-8-8-cpu] \u001b[31mFAILED\u001b[0m\u001b[31m                     [ 18%]\u001b[0m\n",
      "tests/test_ndarray.py::test_matmul[1-2-3-cpu] \u001b[32mPASSED\u001b[0m\u001b[31m                     [ 27%]\u001b[0m\n",
      "tests/test_ndarray.py::test_matmul[3-4-5-cpu] \u001b[32mPASSED\u001b[0m\u001b[31m                     [ 36%]\u001b[0m\n",
      "tests/test_ndarray.py::test_matmul[5-4-3-cpu] \u001b[32mPASSED\u001b[0m\u001b[31m                     [ 45%]\u001b[0m\n",
      "tests/test_ndarray.py::test_matmul[64-64-64-cpu] \u001b[31mFAILED\u001b[0m\u001b[31m                  [ 54%]\u001b[0m\n",
      "tests/test_ndarray.py::test_matmul[72-72-72-cpu] \u001b[32mPASSED\u001b[0m\u001b[31m                  [ 63%]\u001b[0m\n",
      "tests/test_ndarray.py::test_matmul[72-73-74-cpu] \u001b[32mPASSED\u001b[0m\u001b[31m                  [ 72%]\u001b[0m\n",
      "tests/test_ndarray.py::test_matmul[74-73-72-cpu] \u001b[32mPASSED\u001b[0m\u001b[31m                  [ 81%]\u001b[0m\n",
      "tests/test_ndarray.py::test_matmul[128-128-128-cpu] \u001b[32mPASSED\u001b[0m\u001b[31m               [ 90%]\u001b[0m\n",
      "tests/test_ndarray.py::test_matmul[192-128-64-cpu] \u001b[31mFAILED\u001b[0m\u001b[31m                [100%]\u001b[0m\n",
      "\n",
      "=================================== FAILURES ===================================\n",
      "\u001b[31m\u001b[1m__________________________ test_matmul[16-16-16-cpu] ___________________________\u001b[0m\n",
      "\n",
      "m = 16, n = 16, p = 16, device = cpu()\n",
      "\n",
      "    \u001b[37m@pytest\u001b[39;49;00m.mark.parametrize(\u001b[33m\"\u001b[39;49;00m\u001b[33mdevice\u001b[39;49;00m\u001b[33m\"\u001b[39;49;00m, _DEVICES, ids=[\u001b[33m\"\u001b[39;49;00m\u001b[33mcpu\u001b[39;49;00m\u001b[33m\"\u001b[39;49;00m, \u001b[33m\"\u001b[39;49;00m\u001b[33mcuda\u001b[39;49;00m\u001b[33m\"\u001b[39;49;00m])\n",
      "    \u001b[37m@pytest\u001b[39;49;00m.mark.parametrize(\u001b[33m\"\u001b[39;49;00m\u001b[33mm,n,p\u001b[39;49;00m\u001b[33m\"\u001b[39;49;00m, matmul_dims)\n",
      "    \u001b[94mdef\u001b[39;49;00m \u001b[92mtest_matmul\u001b[39;49;00m(m, n, p, device):\n",
      "        _A = np.random.randn(m, n)\n",
      "        _B = np.random.randn(n, p)\n",
      "        A = nd.array(_A, device=device)\n",
      "        B = nd.array(_B, device=device)\n",
      ">       np.testing.assert_allclose((A @ B).numpy(), _A @ _B, rtol=\u001b[94m1e-5\u001b[39;49;00m, atol=\u001b[94m1e-5\u001b[39;49;00m)\n",
      "\u001b[1m\u001b[31mE       AssertionError: \u001b[0m\n",
      "\u001b[1m\u001b[31mE       Not equal to tolerance rtol=1e-05, atol=1e-05\u001b[0m\n",
      "\u001b[1m\u001b[31mE       \u001b[0m\n",
      "\u001b[1m\u001b[31mE       Mismatched elements: 162 / 256 (63.3%)\u001b[0m\n",
      "\u001b[1m\u001b[31mE       Max absolute difference: 1.8588972e+34\u001b[0m\n",
      "\u001b[1m\u001b[31mE       Max relative difference: 5.0348142e+33\u001b[0m\n",
      "\u001b[1m\u001b[31mE        x: array([[-1.268519e+32,  4.469969e+00, -1.268519e+32,  3.543755e+00,\u001b[0m\n",
      "\u001b[1m\u001b[31mE                4.257459e+00, -1.590612e+00, -6.720273e+00,  4.012095e+00,\u001b[0m\n",
      "\u001b[1m\u001b[31mE               -2.473533e+00,  1.849245e+31,  7.096823e+22,  1.740941e+25,...\u001b[0m\n",
      "\u001b[1m\u001b[31mE        y: array([[ 2.226047,  4.469969, -5.113449,  3.543755,  4.257458, -1.590612,\u001b[0m\n",
      "\u001b[1m\u001b[31mE               -6.720273,  4.012095, -2.473533, -2.770845, -0.498574,  9.063455,\u001b[0m\n",
      "\u001b[1m\u001b[31mE               11.537812,  3.914775,  6.44716 ,  3.464716],...\u001b[0m\n",
      "\n",
      "\u001b[1m\u001b[31mtests/test_ndarray.py\u001b[0m:308: AssertionError\n",
      "\u001b[31m\u001b[1m____________________________ test_matmul[8-8-8-cpu] ____________________________\u001b[0m\n",
      "\n",
      "m = 8, n = 8, p = 8, device = cpu()\n",
      "\n",
      "    \u001b[37m@pytest\u001b[39;49;00m.mark.parametrize(\u001b[33m\"\u001b[39;49;00m\u001b[33mdevice\u001b[39;49;00m\u001b[33m\"\u001b[39;49;00m, _DEVICES, ids=[\u001b[33m\"\u001b[39;49;00m\u001b[33mcpu\u001b[39;49;00m\u001b[33m\"\u001b[39;49;00m, \u001b[33m\"\u001b[39;49;00m\u001b[33mcuda\u001b[39;49;00m\u001b[33m\"\u001b[39;49;00m])\n",
      "    \u001b[37m@pytest\u001b[39;49;00m.mark.parametrize(\u001b[33m\"\u001b[39;49;00m\u001b[33mm,n,p\u001b[39;49;00m\u001b[33m\"\u001b[39;49;00m, matmul_dims)\n",
      "    \u001b[94mdef\u001b[39;49;00m \u001b[92mtest_matmul\u001b[39;49;00m(m, n, p, device):\n",
      "        _A = np.random.randn(m, n)\n",
      "        _B = np.random.randn(n, p)\n",
      "        A = nd.array(_A, device=device)\n",
      "        B = nd.array(_B, device=device)\n",
      ">       np.testing.assert_allclose((A @ B).numpy(), _A @ _B, rtol=\u001b[94m1e-5\u001b[39;49;00m, atol=\u001b[94m1e-5\u001b[39;49;00m)\n",
      "\u001b[1m\u001b[31mE       AssertionError: \u001b[0m\n",
      "\u001b[1m\u001b[31mE       Not equal to tolerance rtol=1e-05, atol=1e-05\u001b[0m\n",
      "\u001b[1m\u001b[31mE       \u001b[0m\n",
      "\u001b[1m\u001b[31mE       Mismatched elements: 4 / 64 (6.25%)\u001b[0m\n",
      "\u001b[1m\u001b[31mE       Max absolute difference: 6.54806063e+31\u001b[0m\n",
      "\u001b[1m\u001b[31mE       Max relative difference: 6.34519773e+31\u001b[0m\n",
      "\u001b[1m\u001b[31mE        x: array([[-3.346175e+00,  2.608598e+00,  3.130348e+00,  1.997490e+00,\u001b[0m\n",
      "\u001b[1m\u001b[31mE                1.904292e+00,  7.415843e-01,  2.265063e+00,  2.228654e+00],\u001b[0m\n",
      "\u001b[1m\u001b[31mE              [ 3.927770e-01, -1.192460e+00,  1.365360e-01,  1.283200e+00,...\u001b[0m\n",
      "\u001b[1m\u001b[31mE        y: array([[-3.346174e+00,  2.608598e+00,  3.130348e+00,  1.997490e+00,\u001b[0m\n",
      "\u001b[1m\u001b[31mE                1.904292e+00,  7.415842e-01,  2.265063e+00,  2.228654e+00],\u001b[0m\n",
      "\u001b[1m\u001b[31mE              [ 3.927772e-01, -1.192460e+00,  1.365361e-01,  1.283200e+00,...\u001b[0m\n",
      "\n",
      "\u001b[1m\u001b[31mtests/test_ndarray.py\u001b[0m:308: AssertionError\n",
      "\u001b[31m\u001b[1m__________________________ test_matmul[64-64-64-cpu] ___________________________\u001b[0m\n",
      "\n",
      "m = 64, n = 64, p = 64, device = cpu()\n",
      "\n",
      "    \u001b[37m@pytest\u001b[39;49;00m.mark.parametrize(\u001b[33m\"\u001b[39;49;00m\u001b[33mdevice\u001b[39;49;00m\u001b[33m\"\u001b[39;49;00m, _DEVICES, ids=[\u001b[33m\"\u001b[39;49;00m\u001b[33mcpu\u001b[39;49;00m\u001b[33m\"\u001b[39;49;00m, \u001b[33m\"\u001b[39;49;00m\u001b[33mcuda\u001b[39;49;00m\u001b[33m\"\u001b[39;49;00m])\n",
      "    \u001b[37m@pytest\u001b[39;49;00m.mark.parametrize(\u001b[33m\"\u001b[39;49;00m\u001b[33mm,n,p\u001b[39;49;00m\u001b[33m\"\u001b[39;49;00m, matmul_dims)\n",
      "    \u001b[94mdef\u001b[39;49;00m \u001b[92mtest_matmul\u001b[39;49;00m(m, n, p, device):\n",
      "        _A = np.random.randn(m, n)\n",
      "        _B = np.random.randn(n, p)\n",
      "        A = nd.array(_A, device=device)\n",
      "        B = nd.array(_B, device=device)\n",
      ">       np.testing.assert_allclose((A @ B).numpy(), _A @ _B, rtol=\u001b[94m1e-5\u001b[39;49;00m, atol=\u001b[94m1e-5\u001b[39;49;00m)\n",
      "\u001b[1m\u001b[31mE       AssertionError: \u001b[0m\n",
      "\u001b[1m\u001b[31mE       Not equal to tolerance rtol=1e-05, atol=1e-05\u001b[0m\n",
      "\u001b[1m\u001b[31mE       \u001b[0m\n",
      "\u001b[1m\u001b[31mE       Mismatched elements: 580 / 4096 (14.2%)\u001b[0m\n",
      "\u001b[1m\u001b[31mE       Max absolute difference: 1.26849549e+32\u001b[0m\n",
      "\u001b[1m\u001b[31mE       Max relative difference: 1.61933333e+33\u001b[0m\n",
      "\u001b[1m\u001b[31mE        x: array([[ 7.934425e+00, -3.183074e+00,  2.808899e+00, ...,  7.274898e-01,\u001b[0m\n",
      "\u001b[1m\u001b[31mE               -1.102136e+31,  3.296498e+00],\u001b[0m\n",
      "\u001b[1m\u001b[31mE              [-7.303982e+00, -1.972226e+00,  6.113616e+00, ...,  6.137894e+00,...\u001b[0m\n",
      "\u001b[1m\u001b[31mE        y: array([[  7.934426,  -3.183074,   2.808898, ...,   0.72749 ,   0.807721,\u001b[0m\n",
      "\u001b[1m\u001b[31mE                 3.296497],\u001b[0m\n",
      "\u001b[1m\u001b[31mE              [ -7.303982,  -1.972226,   6.113618, ...,   6.137893,  -6.986462,...\u001b[0m\n",
      "\n",
      "\u001b[1m\u001b[31mtests/test_ndarray.py\u001b[0m:308: AssertionError\n",
      "\u001b[31m\u001b[1m_________________________ test_matmul[192-128-64-cpu] __________________________\u001b[0m\n",
      "\n",
      "m = 192, n = 128, p = 64, device = cpu()\n",
      "\n",
      "    \u001b[37m@pytest\u001b[39;49;00m.mark.parametrize(\u001b[33m\"\u001b[39;49;00m\u001b[33mdevice\u001b[39;49;00m\u001b[33m\"\u001b[39;49;00m, _DEVICES, ids=[\u001b[33m\"\u001b[39;49;00m\u001b[33mcpu\u001b[39;49;00m\u001b[33m\"\u001b[39;49;00m, \u001b[33m\"\u001b[39;49;00m\u001b[33mcuda\u001b[39;49;00m\u001b[33m\"\u001b[39;49;00m])\n",
      "    \u001b[37m@pytest\u001b[39;49;00m.mark.parametrize(\u001b[33m\"\u001b[39;49;00m\u001b[33mm,n,p\u001b[39;49;00m\u001b[33m\"\u001b[39;49;00m, matmul_dims)\n",
      "    \u001b[94mdef\u001b[39;49;00m \u001b[92mtest_matmul\u001b[39;49;00m(m, n, p, device):\n",
      "        _A = np.random.randn(m, n)\n",
      "        _B = np.random.randn(n, p)\n",
      "        A = nd.array(_A, device=device)\n",
      "        B = nd.array(_B, device=device)\n",
      ">       np.testing.assert_allclose((A @ B).numpy(), _A @ _B, rtol=\u001b[94m1e-5\u001b[39;49;00m, atol=\u001b[94m1e-5\u001b[39;49;00m)\n",
      "\u001b[1m\u001b[31mE       AssertionError: \u001b[0m\n",
      "\u001b[1m\u001b[31mE       Not equal to tolerance rtol=1e-05, atol=1e-05\u001b[0m\n",
      "\u001b[1m\u001b[31mE       \u001b[0m\n",
      "\u001b[1m\u001b[31mE       Mismatched elements: 12281 / 12288 (99.9%)\u001b[0m\n",
      "\u001b[1m\u001b[31mE       Max absolute difference: 1.26852644e+32\u001b[0m\n",
      "\u001b[1m\u001b[31mE       Max relative difference: 7.35980647e+30\u001b[0m\n",
      "\u001b[1m\u001b[31mE        x: array([[-1.268526e+32, -1.999138e+00,  2.036712e+01, ...,  6.879041e+00,\u001b[0m\n",
      "\u001b[1m\u001b[31mE                3.370066e+00, -6.337587e+00],\u001b[0m\n",
      "\u001b[1m\u001b[31mE              [-2.836170e+00,  6.083233e+00,  6.729395e-01, ..., -1.257958e+00,...\u001b[0m\n",
      "\u001b[1m\u001b[31mE        y: array([[-17.235867,  -1.999138,  20.367118, ...,   5.615753,   2.668039,\u001b[0m\n",
      "\u001b[1m\u001b[31mE                -5.84891 ],\u001b[0m\n",
      "\u001b[1m\u001b[31mE              [ -3.89634 ,   4.965745,   0.3915  , ...,  -1.193834,   6.354569,...\u001b[0m\n",
      "\n",
      "\u001b[1m\u001b[31mtests/test_ndarray.py\u001b[0m:308: AssertionError\n",
      "=========================== short test summary info ============================\n",
      "FAILED tests/test_ndarray.py::test_matmul[16-16-16-cpu] - AssertionError: \n",
      "FAILED tests/test_ndarray.py::test_matmul[8-8-8-cpu] - AssertionError: \n",
      "FAILED tests/test_ndarray.py::test_matmul[64-64-64-cpu] - AssertionError: \n",
      "FAILED tests/test_ndarray.py::test_matmul[192-128-64-cpu] - AssertionError: \n",
      "\u001b[31m================= \u001b[31m\u001b[1m4 failed\u001b[0m, \u001b[32m7 passed\u001b[0m, \u001b[33m127 deselected\u001b[0m\u001b[31m in 0.33s\u001b[0m\u001b[31m ==================\u001b[0m\n"
     ]
    }
   ],
   "source": [
    "!python3 -m pytest -v -k \"matmul and cpu\""
   ]
  },
  {
   "cell_type": "code",
   "execution_count": null,
   "id": "4f0ac617",
   "metadata": {
    "id": "5e0a7443"
   },
   "outputs": [],
   "source": [
    "!python3 -m mugrade submit \"YOUR KEY HERE\" -k \"ndarray_cpu_matmul\""
   ]
  },
  {
   "cell_type": "code",
   "execution_count": 118,
   "id": "14f8b8b1",
   "metadata": {
    "id": "0d3e131e"
   },
   "outputs": [
    {
     "name": "stdout",
     "output_type": "stream",
     "text": [
      "-- Found pybind11: /home/willyu/anaconda3/envs/10-414/lib/python3.9/site-packages/pybind11/include (found version \"2.10.0\")\n",
      "-- Found cuda, building cuda backend\n",
      "Sun Nov 13 02:02:39 2022       \n",
      "+-----------------------------------------------------------------------------+\n",
      "| NVIDIA-SMI 470.57.02    Driver Version: 470.57.02    CUDA Version: 11.4     |\n",
      "|-------------------------------+----------------------+----------------------+\n",
      "| GPU  Name        Persistence-M| Bus-Id        Disp.A | Volatile Uncorr. ECC |\n",
      "| Fan  Temp  Perf  Pwr:Usage/Cap|         Memory-Usage | GPU-Util  Compute M. |\n",
      "|                               |                      |               MIG M. |\n",
      "|===============================+======================+======================|\n",
      "|   0  NVIDIA GeForce ...  On   | 00000000:06:00.0 Off |                  N/A |\n",
      "| 30%   47C    P8    17W / 350W |  12192MiB / 24268MiB |      0%      Default |\n",
      "|                               |                      |                  N/A |\n",
      "+-------------------------------+----------------------+----------------------+\n",
      "|   1  NVIDIA GeForce ...  On   | 00000000:41:00.0 Off |                  N/A |\n",
      "|100%   90C    P2   289W / 350W |   7021MiB / 24268MiB |     99%      Default |\n",
      "|                               |                      |                  N/A |\n",
      "+-------------------------------+----------------------+----------------------+\n",
      "|   2  NVIDIA GeForce ...  On   | 00000000:61:00.0 Off |                  N/A |\n",
      "| 88%   73C    P2   325W / 350W |   4185MiB / 24268MiB |     99%      Default |\n",
      "|                               |                      |                  N/A |\n",
      "+-------------------------------+----------------------+----------------------+\n",
      "                                                                               \n",
      "+-----------------------------------------------------------------------------+\n",
      "| Processes:                                                                  |\n",
      "|  GPU   GI   CI        PID   Type   Process name                  GPU Memory |\n",
      "|        ID   ID                                                   Usage      |\n",
      "|=============================================================================|\n",
      "|    0   N/A  N/A      1410      G   /usr/lib/xorg/Xorg                  4MiB |\n",
      "|    0   N/A  N/A    740989      C   ...nda3/envs/3361/bin/python    11931MiB |\n",
      "|    0   N/A  N/A   2748028      C   ...a3/envs/10-414/bin/python      253MiB |\n",
      "|    1   N/A  N/A      1410      G   /usr/lib/xorg/Xorg                  4MiB |\n",
      "|    1   N/A  N/A    792362      C   python                           7013MiB |\n",
      "|    2   N/A  N/A      1410      G   /usr/lib/xorg/Xorg                  4MiB |\n",
      "|    2   N/A  N/A    695471      C   python                           4177MiB |\n",
      "+-----------------------------------------------------------------------------+\n",
      "-- Autodetected CUDA architecture(s):  8.6 8.6 8.6\n",
      "-- Configuring done\n",
      "-- Generating done\n",
      "-- Build files have been written to: /home/willyu/10-414/hw3/build\n",
      "make[1]: Entering directory '/home/willyu/10-414/hw3/build'\n",
      "make[2]: Entering directory '/home/willyu/10-414/hw3/build'\n",
      "make[3]: Entering directory '/home/willyu/10-414/hw3/build'\n",
      "make[3]: Leaving directory '/home/willyu/10-414/hw3/build'\n",
      "[ 50%] Built target ndarray_backend_cuda\n",
      "make[3]: Entering directory '/home/willyu/10-414/hw3/build'\n",
      "\u001b[35m\u001b[1mScanning dependencies of target ndarray_backend_cpu\u001b[0m\n",
      "make[3]: Leaving directory '/home/willyu/10-414/hw3/build'\n",
      "make[3]: Entering directory '/home/willyu/10-414/hw3/build'\n",
      "[ 75%] \u001b[32mBuilding CXX object CMakeFiles/ndarray_backend_cpu.dir/src/ndarray_backend_cpu.cc.o\u001b[0m\n",
      "[100%] \u001b[32m\u001b[1mLinking CXX shared module ../python/needle/backend_ndarray/ndarray_backend_cpu.cpython-39-x86_64-linux-gnu.so\u001b[0m\n",
      "make[3]: Leaving directory '/home/willyu/10-414/hw3/build'\n",
      "[100%] Built target ndarray_backend_cpu\n",
      "make[2]: Leaving directory '/home/willyu/10-414/hw3/build'\n",
      "make[1]: Leaving directory '/home/willyu/10-414/hw3/build'\n"
     ]
    }
   ],
   "source": [
    "!export CXX=/usr/bin/clang++ && make"
   ]
  },
  {
   "cell_type": "markdown",
   "id": "6f94bb36",
   "metadata": {
    "id": "c44486db"
   },
   "source": [
    "## Part 6: CUDA Backend - Compact and setitem\n",
    "\n",
    "Implement the following functions in `ndarray_backend_cuda.cu`:\n",
    "* `Compact()`\n",
    "* `EwiseSetitem()`\n",
    "* `ScalarSetitem()`\n",
    "\n",
    "\n",
    "For this portion, you'll implement the `compact` and `setitem` calls in the CUDA backend.  This is fairly similar to the C++ version, however, depending on how you implemented that function, there could also be some substantial differences.  We specifically want to highlight a few differences between the C++ and the CUDA implementations.\n",
    "\n",
    "First, as with the example functions implemented in the CUDA backend code, for all the functions above you will actually want to implement two functions: the basic functions listed above that you will call from Python, and the corresponding CUDA kernels that will actually perform the computation.  For the most part, we only provide the prototype for the \"base\" function in the `ndarray_backend_cuda.cu` file, and you will need to define and implement the kernel function yourself.  However, to see how these work, for the `Compact()` call we are providing you with the **complete** `Compact()` call, and the function prototype for the `CompactKernel()` call.\n",
    "\n",
    "One thing you may notice is the seemingly odd use of a `CudaVec` struct, which is a struct used to pass shape/stride parameters.  In the C++ version we used the STL `std::vector` variables to store these inputs (and the same is done in the base `Compact()` call, but CUDA kernels **cannot** operation on STL vectors, so something else is needed).  Furthermore, although we could convert the vectors to normal CUDA arrays, this would be rather cumbersome, as we would need to call `cudaMalloc()`, pass the parameters as integer pointers, then free them after the calls.  Of course such memory management is needed for the actual underlying data in the array, but it seems like overkill to do it for just passing a variable-sized small tuple of shape/stride values.  The solution is to create a struct that has a \"maximize\" size ($8$ by default) for the number of dimensions an array can have, and then just store the actual shape/stride data in the first few entries of these fields.  This is all done by the included `CudaVec` struct and `VecToCuda()` function, and you can just use these as provided for all the CUDA kernels that require passing shape/strides to the kernel itself.\n",
    "\n",
    "The other (more conceptual) big difference between the C++ and CUDA implementations of `Compact()` is that in C++ you will typically loop over the elements of the non-compact array sequentially, which allows you to perform some optimizations with respect to computing the corresponding indices between the compact and non-compact arrays.  In CUDA, you cannot do this, and will need to implement code that can directly map from an index in the compact array to one in the strided array.\n",
    "\n",
    "As before, we recommend you implement your code in such as way that it can easily be re-used between the `Compact()` and `…Setitem()` calls.  As a short note, remember that if you want to call a (separate, non-kernel) function from kernel code, you need to define it as a `__device__` function.\n"
   ]
  },
  {
   "cell_type": "markdown",
   "id": "7156834e-93f5-4ba5-bf12-4ea6eaaa5a3e",
   "metadata": {},
   "source": [
    "### An implementation caveat\n",
    "\n",
    "Always use the size of a **compact** array to determine block and thread dimensions. One may be tempted to copy-and-paste the `Compact` kernel invocation and simply modify the kernel name, which is **incorrect** for `…Setitem`. The error lies in `out->size`. `out` is sparse and may contain **far more** elements than what are re-assigned. The correct size for block/thread dimensions is `a.size` for `EwiseSetitem`. See [this post](https://forum.dlsyscourse.org/t/q6-setitem-in-gpu-version/2641/3) for details.\n",
    "\n",
    "```c++\n",
    "void Compact(…)\n",
    "{\n",
    "    CudaDims dim = CudaOneDim(out->size);\n",
    "    CompactKernel<<<dim.grid, dim.block>>>(…\n",
    "                                           out->size, …);\n",
    "}\n",
    "```"
   ]
  },
  {
   "cell_type": "code",
   "execution_count": 191,
   "id": "49411a10",
   "metadata": {
    "id": "480d127f"
   },
   "outputs": [
    {
     "name": "stdout",
     "output_type": "stream",
     "text": [
      "\u001b[1m============================= test session starts ==============================\u001b[0m\n",
      "platform linux -- Python 3.9.13, pytest-7.1.3, pluggy-1.0.0 -- /home/willyu/anaconda3/envs/10-414/bin/python3\n",
      "cachedir: .pytest_cache\n",
      "rootdir: /home/willyu/10-414/hw3\n",
      "plugins: anyio-3.6.1\n",
      "collected 138 items / 123 deselected / 15 selected                             \u001b[0m\n",
      "\n",
      "tests/test_ndarray.py::test_compact[cuda-transpose] \u001b[32mPASSED\u001b[0m\u001b[32m               [  6%]\u001b[0m\n",
      "tests/test_ndarray.py::test_compact[cuda-broadcast_to] \u001b[32mPASSED\u001b[0m\u001b[32m            [ 13%]\u001b[0m\n",
      "tests/test_ndarray.py::test_compact[cuda-reshape1] \u001b[32mPASSED\u001b[0m\u001b[32m                [ 20%]\u001b[0m\n",
      "tests/test_ndarray.py::test_compact[cuda-reshape2] \u001b[32mPASSED\u001b[0m\u001b[32m                [ 26%]\u001b[0m\n",
      "tests/test_ndarray.py::test_compact[cuda-reshape3] \u001b[32mPASSED\u001b[0m\u001b[32m                [ 33%]\u001b[0m\n",
      "tests/test_ndarray.py::test_compact[cuda-getitem1] \u001b[32mPASSED\u001b[0m\u001b[32m                [ 40%]\u001b[0m\n",
      "tests/test_ndarray.py::test_compact[cuda-getitem2] \u001b[32mPASSED\u001b[0m\u001b[32m                [ 46%]\u001b[0m\n",
      "tests/test_ndarray.py::test_compact[cuda-transposegetitem] \u001b[32mPASSED\u001b[0m\u001b[32m        [ 53%]\u001b[0m\n",
      "tests/test_ndarray.py::test_setitem_ewise[cuda-params0] \u001b[32mPASSED\u001b[0m\u001b[32m           [ 60%]\u001b[0m\n",
      "tests/test_ndarray.py::test_setitem_ewise[cuda-params1] \u001b[32mPASSED\u001b[0m\u001b[32m           [ 66%]\u001b[0m\n",
      "tests/test_ndarray.py::test_setitem_ewise[cuda-params2] \u001b[32mPASSED\u001b[0m\u001b[32m           [ 73%]\u001b[0m\n",
      "tests/test_ndarray.py::test_setitem_scalar[cuda-params0] \u001b[32mPASSED\u001b[0m\u001b[32m          [ 80%]\u001b[0m\n",
      "tests/test_ndarray.py::test_setitem_scalar[cuda-params1] \u001b[32mPASSED\u001b[0m\u001b[32m          [ 86%]\u001b[0m\n",
      "tests/test_ndarray.py::test_setitem_scalar[cuda-params2] \u001b[32mPASSED\u001b[0m\u001b[32m          [ 93%]\u001b[0m\n",
      "tests/test_ndarray.py::test_setitem_scalar[cuda-params3] \u001b[32mPASSED\u001b[0m\u001b[32m          [100%]\u001b[0m\n",
      "\n",
      "\u001b[32m====================== \u001b[32m\u001b[1m15 passed\u001b[0m, \u001b[33m123 deselected\u001b[0m\u001b[32m in 0.32s\u001b[0m\u001b[32m ======================\u001b[0m\n"
     ]
    }
   ],
   "source": [
    "!python3 -m pytest -v -k \"(compact or setitem) and cuda\""
   ]
  },
  {
   "cell_type": "code",
   "execution_count": 193,
   "id": "e8398c6b",
   "metadata": {
    "id": "98a83634"
   },
   "outputs": [
    {
     "name": "stdout",
     "output_type": "stream",
     "text": [
      "submit\n",
      "\u001b[1m============================= test session starts ==============================\u001b[0m\n",
      "platform linux -- Python 3.9.13, pytest-7.1.3, pluggy-1.0.0\n",
      "rootdir: /home/willyu/10-414/hw3\n",
      "plugins: anyio-3.6.1\n",
      "collected 9 items / 8 deselected / 1 selected                                  \u001b[0m\n",
      "\n",
      "tests/test_ndarray.py \n",
      "Submitting ndarray_cuda_compact_setitem...\n",
      "Grader test 1 passed\n",
      "Grader test 2 passed\n",
      "Grader test 3 passed\n",
      "Grader test 4 passed\n",
      "Grader test 5 passed\n",
      "Grader test 6 passed\n",
      "Grader test 7 passed\n",
      "Grader test 8 passed\n",
      "\u001b[32m.\u001b[0m\n",
      "\n",
      "\u001b[32m======================= \u001b[32m\u001b[1m1 passed\u001b[0m, \u001b[33m8 deselected\u001b[0m\u001b[32m in 10.32s\u001b[0m\u001b[32m =======================\u001b[0m\n"
     ]
    }
   ],
   "source": [
    "!python3 -m mugrade submit \"_2wS9QjetWr7kunof2FdD\" -k \"ndarray_cuda_compact_setitem\""
   ]
  },
  {
   "cell_type": "markdown",
   "id": "66e780d0",
   "metadata": {
    "id": "7aa2a94a"
   },
   "source": [
    "## Part 7: CUDA Backend - Elementwise and scalar operations\n",
    "\n",
    "Implement the following functions in `ndarray_backend_cuda.cu`:\n",
    "\n",
    "* `EwiseMul()`, `ScalarMul()`\n",
    "* `EwiseDiv()`, `ScalarDiv()`\n",
    "* `ScalarPower()`\n",
    "* `EwiseMaximum()`, `ScalarMaximum()`\n",
    "* `EwiseEq()`, `ScalarEq()`\n",
    "* `EwiseGe()`, `ScalarGe()`\n",
    "* `EwiseLog()`\n",
    "* `EwiseExp()`\n",
    "* `EwiseTanh()`\n",
    "\n",
    "Again, we don't provide these function prototypes, and you're welcome to use C++ templates or macros to make this implementation more compact.  You will also want to uncomment the appropriate regions of the pybind11 code once you've implemented each function. There is a [built-in math library](https://docs.nvidia.com/cuda/cuda-c-best-practices-guide/index.html#math-libraries) in CUDA."
   ]
  },
  {
   "cell_type": "code",
   "execution_count": 43,
   "id": "501d4046",
   "metadata": {
    "id": "ee2d6dd8"
   },
   "outputs": [
    {
     "name": "stdout",
     "output_type": "stream",
     "text": [
      "\u001b[1m============================= test session starts ==============================\u001b[0m\n",
      "platform linux -- Python 3.9.13, pytest-7.1.3, pluggy-1.0.0 -- /home/willyu/anaconda3/envs/10-414/bin/python3\n",
      "cachedir: .pytest_cache\n",
      "rootdir: /home/willyu/10-414/hw3\n",
      "plugins: anyio-3.6.1\n",
      "collected 138 items / 115 deselected / 23 selected                             \u001b[0m\n",
      "\n",
      "tests/test_ndarray.py::test_ewise_fn[cuda-shape0-multiply] \u001b[32mPASSED\u001b[0m\u001b[32m        [  4%]\u001b[0m\n",
      "tests/test_ndarray.py::test_ewise_fn[cuda-shape0-divide] \u001b[32mPASSED\u001b[0m\u001b[32m          [  8%]\u001b[0m\n",
      "tests/test_ndarray.py::test_ewise_fn[cuda-shape0-add] \u001b[32mPASSED\u001b[0m\u001b[32m             [ 13%]\u001b[0m\n",
      "tests/test_ndarray.py::test_ewise_fn[cuda-shape0-subtract] \u001b[32mPASSED\u001b[0m\u001b[32m        [ 17%]\u001b[0m\n",
      "tests/test_ndarray.py::test_ewise_fn[cuda-shape0-equal] \u001b[32mPASSED\u001b[0m\u001b[32m           [ 21%]\u001b[0m\n",
      "tests/test_ndarray.py::test_ewise_fn[cuda-shape0-greater_than] \u001b[32mPASSED\u001b[0m\u001b[32m    [ 26%]\u001b[0m\n",
      "tests/test_ndarray.py::test_ewise_fn[cuda-shape1-multiply] \u001b[32mPASSED\u001b[0m\u001b[32m        [ 30%]\u001b[0m\n",
      "tests/test_ndarray.py::test_ewise_fn[cuda-shape1-divide] \u001b[32mPASSED\u001b[0m\u001b[32m          [ 34%]\u001b[0m\n",
      "tests/test_ndarray.py::test_ewise_fn[cuda-shape1-add] \u001b[32mPASSED\u001b[0m\u001b[32m             [ 39%]\u001b[0m\n",
      "tests/test_ndarray.py::test_ewise_fn[cuda-shape1-subtract] \u001b[32mPASSED\u001b[0m\u001b[32m        [ 43%]\u001b[0m\n",
      "tests/test_ndarray.py::test_ewise_fn[cuda-shape1-equal] \u001b[32mPASSED\u001b[0m\u001b[32m           [ 47%]\u001b[0m\n",
      "tests/test_ndarray.py::test_ewise_fn[cuda-shape1-greater_than] \u001b[32mPASSED\u001b[0m\u001b[32m    [ 52%]\u001b[0m\n",
      "tests/test_ndarray.py::test_ewise_max[cuda-shape0] \u001b[32mPASSED\u001b[0m\u001b[32m                [ 56%]\u001b[0m\n",
      "tests/test_ndarray.py::test_ewise_max[cuda-shape1] \u001b[32mPASSED\u001b[0m\u001b[32m                [ 60%]\u001b[0m\n",
      "tests/test_ndarray.py::test_scalar_mul[cuda] \u001b[32mPASSED\u001b[0m\u001b[32m                      [ 65%]\u001b[0m\n",
      "tests/test_ndarray.py::test_scalar_div[cuda] \u001b[32mPASSED\u001b[0m\u001b[32m                      [ 69%]\u001b[0m\n",
      "tests/test_ndarray.py::test_scalar_power[cuda] \u001b[32mPASSED\u001b[0m\u001b[32m                    [ 73%]\u001b[0m\n",
      "tests/test_ndarray.py::test_scalar_maximum[cuda] \u001b[32mPASSED\u001b[0m\u001b[33m                  [ 78%]\u001b[0m\n",
      "tests/test_ndarray.py::test_scalar_eq[cuda] \u001b[32mPASSED\u001b[0m\u001b[33m                       [ 82%]\u001b[0m\n",
      "tests/test_ndarray.py::test_scalar_ge[cuda] \u001b[32mPASSED\u001b[0m\u001b[33m                       [ 86%]\u001b[0m\n",
      "tests/test_ndarray.py::test_ewise_log[cuda] \u001b[32mPASSED\u001b[0m\u001b[33m                       [ 91%]\u001b[0m\n",
      "tests/test_ndarray.py::test_ewise_exp[cuda] \u001b[32mPASSED\u001b[0m\u001b[33m                       [ 95%]\u001b[0m\n",
      "tests/test_ndarray.py::test_ewise_tanh[cuda] \u001b[32mPASSED\u001b[0m\u001b[33m                      [100%]\u001b[0m\n",
      "\n",
      "\u001b[33m=============================== warnings summary ===============================\u001b[0m\n",
      "tests/test_ndarray.py::test_scalar_power[cuda]\n",
      "  /home/willyu/10-414/hw3/tests/test_ndarray.py:335: RuntimeWarning: invalid value encountered in power\n",
      "    np.testing.assert_allclose(np.power( A,  0.5), ( B**  0.5 ).numpy(), atol=1e-5, rtol=1e-5)\n",
      "\n",
      "-- Docs: https://docs.pytest.org/en/stable/how-to/capture-warnings.html\n",
      "\u001b[33m================ \u001b[32m23 passed\u001b[0m, \u001b[33m\u001b[1m115 deselected\u001b[0m, \u001b[33m\u001b[1m1 warning\u001b[0m\u001b[33m in 0.30s\u001b[0m\u001b[33m =================\u001b[0m\n"
     ]
    }
   ],
   "source": [
    "!python3 -m pytest -v -k \"(ewise_fn or ewise_max or log or exp or tanh or (scalar and not setitem)) and cuda\""
   ]
  },
  {
   "cell_type": "code",
   "execution_count": 44,
   "id": "6fd12e2b",
   "metadata": {
    "id": "db80e3fa"
   },
   "outputs": [
    {
     "name": "stdout",
     "output_type": "stream",
     "text": [
      "submit\n",
      "\u001b[1m============================= test session starts ==============================\u001b[0m\n",
      "platform linux -- Python 3.9.13, pytest-7.1.3, pluggy-1.0.0\n",
      "rootdir: /home/willyu/10-414/hw3\n",
      "plugins: anyio-3.6.1\n",
      "collected 9 items / 8 deselected / 1 selected                                  \u001b[0m\n",
      "\n",
      "tests/test_ndarray.py \n",
      "Submitting ndarray_cuda_ops...\n",
      "Grader test 1 passed\n",
      "Grader test 2 passed\n",
      "Grader test 3 passed\n",
      "Grader test 4 passed\n",
      "Grader test 5 passed\n",
      "Grader test 6 passed\n",
      "Grader test 7 passed\n",
      "Grader test 8 passed\n",
      "Grader test 9 passed\n",
      "Grader test 10 passed\n",
      "Grader test 11 passed\n",
      "Grader test 12 passed\n",
      "Grader test 13 passed\n",
      "Grader test 14 passed\n",
      "\u001b[32m.\u001b[0m\n",
      "\n",
      "\u001b[32m======================= \u001b[32m\u001b[1m1 passed\u001b[0m, \u001b[33m8 deselected\u001b[0m\u001b[32m in 15.68s\u001b[0m\u001b[32m =======================\u001b[0m\n"
     ]
    }
   ],
   "source": [
    "!python3 -m mugrade submit \"_2wS9QjetWr7kunof2FdD\" -k \"ndarray_cuda_ops\""
   ]
  },
  {
   "cell_type": "markdown",
   "id": "61edfc4e",
   "metadata": {
    "id": "9b7de79b"
   },
   "source": [
    "## Part 8: CUDA Backend - Reductions\n",
    "\n",
    "\n",
    "Implement the following functions in `ndarray_backend_cuda.cu`:\n",
    "\n",
    "* `ReduceMax()`\n",
    "* `ReduceSum()`\n",
    "\n",
    "You can take a fairly simplistic approach here, and just use a separate CUDA thread for each individual reduction item, i.e., if there is a $100 \\times 20$ array you are reducing over the second dimension, you could have $100$ threads, each of which individually processed its own $20$-dimensional array.  This is particularly inefficient for the `.max(axis=None)` calls, but we won't worry about this for the time being.  If you want a more industrial-grade implementation, you use a hierarchical mechanism that first aggregated across some smaller span, then had a secondary function that aggregated across these reduced arrays, etc. CUDA also has native support for parallel reduction (see [`__reduce_…_sync`](https://docs.nvidia.com/cuda/cuda-c-programming-guide/index.html#warp-reduce-functions)). But this is not needed to pass the tests."
   ]
  },
  {
   "cell_type": "code",
   "execution_count": 207,
   "id": "0fcc17ef",
   "metadata": {
    "id": "10239c84"
   },
   "outputs": [
    {
     "name": "stdout",
     "output_type": "stream",
     "text": [
      "\u001b[1m============================= test session starts ==============================\u001b[0m\n",
      "platform linux -- Python 3.9.13, pytest-7.1.3, pluggy-1.0.0 -- /home/willyu/anaconda3/envs/10-414/bin/python3\n",
      "cachedir: .pytest_cache\n",
      "rootdir: /home/willyu/10-414/hw3\n",
      "plugins: anyio-3.6.1\n",
      "collected 138 items / 130 deselected / 8 selected                              \u001b[0m\n",
      "\n",
      "tests/test_ndarray.py::test_reduce_sum[params0-cuda] \u001b[32mPASSED\u001b[0m\u001b[32m              [ 12%]\u001b[0m\n",
      "tests/test_ndarray.py::test_reduce_sum[params1-cuda] \u001b[32mPASSED\u001b[0m\u001b[32m              [ 25%]\u001b[0m\n",
      "tests/test_ndarray.py::test_reduce_sum[params2-cuda] \u001b[32mPASSED\u001b[0m\u001b[32m              [ 37%]\u001b[0m\n",
      "tests/test_ndarray.py::test_reduce_sum[params3-cuda] \u001b[32mPASSED\u001b[0m\u001b[32m              [ 50%]\u001b[0m\n",
      "tests/test_ndarray.py::test_reduce_max[params0-cuda] \u001b[32mPASSED\u001b[0m\u001b[32m              [ 62%]\u001b[0m\n",
      "tests/test_ndarray.py::test_reduce_max[params1-cuda] \u001b[32mPASSED\u001b[0m\u001b[32m              [ 75%]\u001b[0m\n",
      "tests/test_ndarray.py::test_reduce_max[params2-cuda] \u001b[32mPASSED\u001b[0m\u001b[32m              [ 87%]\u001b[0m\n",
      "tests/test_ndarray.py::test_reduce_max[params3-cuda] \u001b[32mPASSED\u001b[0m\u001b[32m              [100%]\u001b[0m\n",
      "\n",
      "\u001b[32m====================== \u001b[32m\u001b[1m8 passed\u001b[0m, \u001b[33m130 deselected\u001b[0m\u001b[32m in 0.28s\u001b[0m\u001b[32m =======================\u001b[0m\n"
     ]
    }
   ],
   "source": [
    "!python3 -m pytest -v -k \"reduce and cuda\""
   ]
  },
  {
   "cell_type": "code",
   "execution_count": 208,
   "id": "35e5360b",
   "metadata": {
    "id": "0f75df69"
   },
   "outputs": [
    {
     "name": "stdout",
     "output_type": "stream",
     "text": [
      "submit\n",
      "\u001b[1m============================= test session starts ==============================\u001b[0m\n",
      "platform linux -- Python 3.9.13, pytest-7.1.3, pluggy-1.0.0\n",
      "rootdir: /home/willyu/10-414/hw3\n",
      "plugins: anyio-3.6.1\n",
      "collected 9 items / 8 deselected / 1 selected                                  \u001b[0m\n",
      "\n",
      "tests/test_ndarray.py \n",
      "Submitting ndarray_cuda_reductions...\n",
      "Grader test 1 passed\n",
      "Grader test 2 passed\n",
      "Grader test 3 passed\n",
      "Grader test 4 passed\n",
      "Grader test 5 passed\n",
      "Grader test 6 passed\n",
      "Grader test 7 passed\n",
      "Grader test 8 passed\n",
      "\u001b[32m.\u001b[0m\n",
      "\n",
      "\u001b[32m======================= \u001b[32m\u001b[1m1 passed\u001b[0m, \u001b[33m8 deselected\u001b[0m\u001b[32m in 10.87s\u001b[0m\u001b[32m =======================\u001b[0m\n"
     ]
    }
   ],
   "source": [
    "!python3 -m mugrade submit \"_2wS9QjetWr7kunof2FdD\" -k \"ndarray_cuda_reductions\""
   ]
  },
  {
   "cell_type": "markdown",
   "id": "efdd079c",
   "metadata": {
    "id": "01027bb7"
   },
   "source": [
    "## Part 9: CUDA Backend - Matrix multiplication\n",
    "\n",
    "Implement the following functions in `ndarray_backend_cuda.cu`:\n",
    "\n",
    "* `Matmul()`\n",
    "\n",
    "Finally, as your final exercise, you'll implement matrix multiplication on the GPU.  Your implementation here can roughly follow the presentation in class.  While you can pass the tests using fairly naive code here (i.e., you could just have a separate thread for each $(i, j)$ location in the matrix, doing the matrix multiplication efficiently (to make it actually faster than a CPU version) requires cooperative fetching and the block shared memory register tiling covered in class.  Try to implement using these methods, and see how much faster you can get your code than the C++ (or NumPy) backends.\n"
   ]
  },
  {
   "cell_type": "code",
   "execution_count": 46,
   "id": "5ae5642a",
   "metadata": {
    "id": "aa7b46d6"
   },
   "outputs": [
    {
     "name": "stdout",
     "output_type": "stream",
     "text": [
      "\u001b[1m============================= test session starts ==============================\u001b[0m\n",
      "platform linux -- Python 3.9.13, pytest-7.1.3, pluggy-1.0.0 -- /home/willyu/anaconda3/envs/10-414/bin/python3\n",
      "cachedir: .pytest_cache\n",
      "rootdir: /home/willyu/10-414/hw3\n",
      "plugins: anyio-3.6.1\n",
      "collected 138 items / 127 deselected / 11 selected                             \u001b[0m\n",
      "\n",
      "tests/test_ndarray.py::test_matmul[16-16-16-cuda] \u001b[32mPASSED\u001b[0m\u001b[32m                 [  9%]\u001b[0m\n",
      "tests/test_ndarray.py::test_matmul[8-8-8-cuda] \u001b[32mPASSED\u001b[0m\u001b[32m                    [ 18%]\u001b[0m\n",
      "tests/test_ndarray.py::test_matmul[1-2-3-cuda] \u001b[32mPASSED\u001b[0m\u001b[32m                    [ 27%]\u001b[0m\n",
      "tests/test_ndarray.py::test_matmul[3-4-5-cuda] \u001b[32mPASSED\u001b[0m\u001b[32m                    [ 36%]\u001b[0m\n",
      "tests/test_ndarray.py::test_matmul[5-4-3-cuda] \u001b[32mPASSED\u001b[0m\u001b[32m                    [ 45%]\u001b[0m\n",
      "tests/test_ndarray.py::test_matmul[64-64-64-cuda] \u001b[32mPASSED\u001b[0m\u001b[32m                 [ 54%]\u001b[0m\n",
      "tests/test_ndarray.py::test_matmul[72-72-72-cuda] \u001b[32mPASSED\u001b[0m\u001b[32m                 [ 63%]\u001b[0m\n",
      "tests/test_ndarray.py::test_matmul[72-73-74-cuda] \u001b[32mPASSED\u001b[0m\u001b[32m                 [ 72%]\u001b[0m\n",
      "tests/test_ndarray.py::test_matmul[74-73-72-cuda] \u001b[32mPASSED\u001b[0m\u001b[32m                 [ 81%]\u001b[0m\n",
      "tests/test_ndarray.py::test_matmul[128-128-128-cuda] \u001b[32mPASSED\u001b[0m\u001b[32m              [ 90%]\u001b[0m\n",
      "tests/test_ndarray.py::test_matmul[192-128-64-cuda] \u001b[32mPASSED\u001b[0m\u001b[32m               [100%]\u001b[0m\n",
      "\n",
      "\u001b[32m====================== \u001b[32m\u001b[1m11 passed\u001b[0m, \u001b[33m127 deselected\u001b[0m\u001b[32m in 0.32s\u001b[0m\u001b[32m ======================\u001b[0m\n"
     ]
    }
   ],
   "source": [
    "!python3 -m pytest -v -k \"matmul and cuda\""
   ]
  },
  {
   "cell_type": "code",
   "execution_count": 47,
   "id": "ed85b7ef",
   "metadata": {
    "id": "3ae22cf2"
   },
   "outputs": [
    {
     "name": "stdout",
     "output_type": "stream",
     "text": [
      "submit\n",
      "\u001b[1m============================= test session starts ==============================\u001b[0m\n",
      "platform linux -- Python 3.9.13, pytest-7.1.3, pluggy-1.0.0\n",
      "rootdir: /home/willyu/10-414/hw3\n",
      "plugins: anyio-3.6.1\n",
      "collected 9 items / 8 deselected / 1 selected                                  \u001b[0m\n",
      "\n",
      "tests/test_ndarray.py \n",
      "Submitting ndarray_cuda_matmul...\n",
      "Grader test 1 passed\n",
      "Grader test 2 passed\n",
      "Grader test 3 passed\n",
      "Grader test 4 passed\n",
      "Grader test 5 passed\n",
      "Grader test 6 passed\n",
      "\u001b[32m.\u001b[0m\n",
      "\n",
      "\u001b[32m======================= \u001b[32m\u001b[1m1 passed\u001b[0m, \u001b[33m8 deselected\u001b[0m\u001b[32m in 7.89s\u001b[0m\u001b[32m ========================\u001b[0m\n"
     ]
    }
   ],
   "source": [
    "!python3 -m mugrade submit \"_2wS9QjetWr7kunof2FdD\" -k \"ndarray_cuda_matmul\""
   ]
  }
 ],
 "metadata": {
  "accelerator": "GPU",
  "colab": {
   "collapsed_sections": [],
   "name": "hw3.ipynb",
   "provenance": []
  },
  "kernelspec": {
   "display_name": "Python 3",
   "language": "python",
   "name": "python3"
  },
  "language_info": {
   "codemirror_mode": {
    "name": "ipython",
    "version": 3
   },
   "file_extension": ".py",
   "mimetype": "text/x-python",
   "name": "python",
   "nbconvert_exporter": "python",
   "pygments_lexer": "ipython3",
   "version": "3.9.13"
  },
  "vscode": {
   "interpreter": {
    "hash": "916dbcbb3f70747c44a77c7bcd40155683ae19c65e1c03b4aa3499c5328201f1"
   }
  }
 },
 "nbformat": 4,
 "nbformat_minor": 5
}
